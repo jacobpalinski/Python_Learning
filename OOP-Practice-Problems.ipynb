{
 "cells": [
  {
   "cell_type": "markdown",
   "metadata": {},
   "source": [
    "## PYNATIVE"
   ]
  },
  {
   "cell_type": "code",
   "execution_count": 1,
   "metadata": {},
   "outputs": [],
   "source": [
    "#OOP 1 Create a Vehicle class with max_speed and mileage as instance attributes\n",
    "class Vehicle:\n",
    "    \n",
    "    def __init__(self,max_speed,mileage):\n",
    "        self.max_speed=max_speed\n",
    "        self.mileage=mileage"
   ]
  },
  {
   "cell_type": "code",
   "execution_count": 2,
   "metadata": {},
   "outputs": [],
   "source": [
    "#OOP 2 Create a Vehcile class without any variables or methods\n",
    "class Vehicle:\n",
    "    pass"
   ]
  },
  {
   "cell_type": "code",
   "execution_count": 6,
   "metadata": {},
   "outputs": [
    {
     "data": {
      "text/plain": [
       "'Vehicle Name: Volvo Speed: 180 Mileage: 12'"
      ]
     },
     "execution_count": 6,
     "metadata": {},
     "output_type": "execute_result"
    }
   ],
   "source": [
    "#OOP 3 Create a child class Bus that will inherit all of the variables and methods of the Vehicle class\n",
    "class Vehicle:\n",
    "    \n",
    "    def __init__(self,name,max_speed,mileage):\n",
    "        self.name=name\n",
    "        self.max_speed=max_speed\n",
    "        self.mileage=mileage\n",
    "    \n",
    "    def details(self):\n",
    "        return 'Vehicle Name: {} Speed: {} Mileage: {}'.format(self.name,self.max_speed,self.mileage)\n",
    "\n",
    "class Bus(Vehicle):\n",
    "    \n",
    "    def __init__(self,name,max_speed,mileage):\n",
    "        super().__init__(name,max_speed,mileage)\n",
    "\n",
    "x=Bus('Volvo',180,12)\n",
    "x.details()"
   ]
  },
  {
   "cell_type": "code",
   "execution_count": 14,
   "metadata": {},
   "outputs": [
    {
     "data": {
      "text/plain": [
       "'The seating capacity of a Volvo is 50 passengers'"
      ]
     },
     "execution_count": 14,
     "metadata": {},
     "output_type": "execute_result"
    }
   ],
   "source": [
    "#OOP Exercise 4: Class Inheritance\n",
    "class Vehicle:\n",
    "    def __init__(self,name,max_speed,mileage):\n",
    "        self.name=name\n",
    "        self.max_speed=max_speed\n",
    "        self.mileage=mileage\n",
    "    \n",
    "    def seating_capacity(self,capacity):\n",
    "        return f\"The seating capacity of a {self.name} is {capacity} passengers\"\n",
    "    \n",
    "class Bus(Vehicle):\n",
    "    def seating_capacity(self,capacity=50):\n",
    "        return super().seating_capacity(capacity=50)\n",
    "\n",
    "x=Bus('Volvo',180,12)\n",
    "x.seating_capacity()"
   ]
  },
  {
   "cell_type": "code",
   "execution_count": 13,
   "metadata": {},
   "outputs": [
    {
     "name": "stdout",
     "output_type": "stream",
     "text": [
      "white\n",
      "white\n"
     ]
    }
   ],
   "source": [
    "#OOP Exercise 5: Define a property that should have the same value for every class instance\n",
    "class Vehicle:\n",
    "    \n",
    "    def __init__(self,name,max_speed,mileage,color='white'):\n",
    "        self.name=name\n",
    "        self.max_speed=max_speed\n",
    "        self.mileage=mileage\n",
    "        self.color=color\n",
    "\n",
    "class Bus(Vehicle):\n",
    "    pass\n",
    "\n",
    "class Car(Vehicle):\n",
    "    pass\n",
    "\n",
    "a=Bus('Benz',100,180)\n",
    "b=Car('Ferrari',200,20)\n",
    "print(a.color)\n",
    "print(b.color)"
   ]
  },
  {
   "cell_type": "code",
   "execution_count": 15,
   "metadata": {},
   "outputs": [
    {
     "name": "stdout",
     "output_type": "stream",
     "text": [
      "Total Bus fare is: 5500.0\n"
     ]
    }
   ],
   "source": [
    "#OOP Exercise 6: Class Inheritance\n",
    "class Vehicle:\n",
    "    def __init__(self,name,mileage,capacity):\n",
    "        self.name=name\n",
    "        self.mileage=mileage\n",
    "        self.capacity=capacity\n",
    "    \n",
    "    def fare(self):\n",
    "        return self.capacity*100\n",
    "    \n",
    "class Bus(Vehicle):\n",
    "    def fare(self):\n",
    "        return self.capacity*100 +self.capacity*100*0.1\n",
    "\n",
    "School_bus=Bus(\"School Volvo\",12,50)\n",
    "print(\"Total Bus fare is:\", School_bus.fare())"
   ]
  },
  {
   "cell_type": "code",
   "execution_count": 17,
   "metadata": {},
   "outputs": [
    {
     "data": {
      "text/plain": [
       "__main__.Bus"
      ]
     },
     "execution_count": 17,
     "metadata": {},
     "output_type": "execute_result"
    }
   ],
   "source": [
    "# OOP Exercise 7: Determine which class a given Bus object belongs to\n",
    "class Vehicle:\n",
    "    def __init__(self,name,mileage,capacity):\n",
    "        self.name=name\n",
    "        self.mileage=mileage\n",
    "        self.capacity=capacity\n",
    "\n",
    "class Bus(Vehicle):\n",
    "    pass\n",
    "\n",
    "School_bus=Bus(\"School Volvo\",12,50)\n",
    "type(School_bus)"
   ]
  },
  {
   "cell_type": "code",
   "execution_count": 18,
   "metadata": {},
   "outputs": [
    {
     "name": "stdout",
     "output_type": "stream",
     "text": [
      "True\n"
     ]
    }
   ],
   "source": [
    "# OOP Exercise 8: Determine if School_bus is also an instance of the Vehicle class\n",
    "class Vehicle:\n",
    "    def __init__(self,name,mileage,capacity):\n",
    "        self.name=name\n",
    "        self.mileage=mileage\n",
    "        self.capacity=capacity\n",
    "\n",
    "class Bus(Vehicle):\n",
    "    pass\n",
    "\n",
    "School_bus=Bus(\"School Volvo\",12,50)\n",
    "print(isinstance(School_bus,Vehicle))"
   ]
  },
  {
   "cell_type": "code",
   "execution_count": 22,
   "metadata": {},
   "outputs": [
    {
     "name": "stdout",
     "output_type": "stream",
     "text": [
      "3.8.5 (default, Sep  3 2020, 21:29:08) [MSC v.1916 64 bit (AMD64)]\n"
     ]
    }
   ],
   "source": [
    "#Exercise 0: Print version to the console\n",
    "import sys\n",
    "print(sys.version)"
   ]
  },
  {
   "cell_type": "code",
   "execution_count": 26,
   "metadata": {},
   "outputs": [
    {
     "name": "stdout",
     "output_type": "stream",
     "text": [
      "MAXYEAR\n",
      "MINYEAR\n",
      "__builtins__\n",
      "__cached__\n",
      "__doc__\n",
      "__file__\n",
      "__loader__\n",
      "__name__\n",
      "__package__\n",
      "__spec__\n",
      "date\n",
      "datetime\n",
      "datetime_CAPI\n",
      "sys\n",
      "time\n",
      "timedelta\n",
      "timezone\n",
      "tzinfo\n"
     ]
    }
   ],
   "source": [
    "# Exercise 1: Import the Datetime module and display the namespace of this module\n",
    "import datetime\n",
    "for name in sorted(datetime.__dict__):\n",
    "    print(name)"
   ]
  },
  {
   "cell_type": "code",
   "execution_count": 2,
   "metadata": {},
   "outputs": [
    {
     "name": "stdout",
     "output_type": "stream",
     "text": [
      "__module__\n",
      "__init__\n",
      "__repr__\n",
      "get_id\n",
      "__dict__\n",
      "__weakref__\n",
      "__doc__\n"
     ]
    }
   ],
   "source": [
    "#Exercise 2: The Product class is given below. Display the namespace (value of the __dict__ attribute) of this class as\n",
    "#shown below\n",
    "class Product:\n",
    "    \n",
    "    def __init__(self,product_name,price):\n",
    "        self.product_id=self.get_id()\n",
    "        self.product_name=product_name\n",
    "        self.price=price\n",
    "    \n",
    "    def __repr__(self):\n",
    "        return f\"Product(product_name='{self.product_name}',price={self.price})\"\n",
    "    \n",
    "    @staticmethod\n",
    "    def get_id():\n",
    "        return str(uuid.uuid4().fields[-1])[:6]\n",
    "\n",
    "for name in (Product.__dict__):\n",
    "    print(name)"
   ]
  },
  {
   "cell_type": "code",
   "execution_count": 3,
   "metadata": {},
   "outputs": [
    {
     "name": "stdout",
     "output_type": "stream",
     "text": [
      "product_name\n",
      "product_id\n",
      "price\n"
     ]
    }
   ],
   "source": [
    "#Exercise 3: The product class is specified. An instance of this class named product was created. Display the namespace\n",
    "#of this instance shown below\n",
    "import uuid\n",
    "\n",
    "class Product:\n",
    "    def __init__(self,product_name,product_id,price):\n",
    "        self.product_name=product_name\n",
    "        self.product_id=product_id\n",
    "        self.price=price\n",
    "        \n",
    "    def __repr(self):\n",
    "        return f\"Product(product_name='{self.product_name}',price={self.price})\"\n",
    "    \n",
    "product=Product('Mobile Phone','54274',2900)\n",
    "\n",
    "for name in product.__dict__:\n",
    "    print(name)"
   ]
  },
  {
   "cell_type": "code",
   "execution_count": 8,
   "metadata": {},
   "outputs": [
    {
     "data": {
      "text/plain": [
       "('company', 'country', 'price', 'currency')"
      ]
     },
     "execution_count": 8,
     "metadata": {},
     "output_type": "execute_result"
    }
   ],
   "source": [
    "#Exercise 4: The stock info function is defined. Using the appropriate attribute of the stock_info() function, display\n",
    "#the names of all arguments to this function to the console.\n",
    "def stock_info(company, country, price,currency):\n",
    "    return f'Company: {company}\\nCountry: {country}\\Price: {currency}{price}'\n",
    "\n",
    "stock_info('Apple','USA',115,'$')\n",
    "\n",
    "stock_info.__code__.co_varnames"
   ]
  },
  {
   "cell_type": "code",
   "execution_count": 11,
   "metadata": {},
   "outputs": [
    {
     "name": "stdout",
     "output_type": "stream",
     "text": [
      "Help on built-in function sum in module builtins:\n",
      "\n",
      "sum(iterable, /, start=0)\n",
      "    Return the sum of a 'start' value (default: 0) plus an iterable of numbers\n",
      "    \n",
      "    When the iterable is empty, return the start value.\n",
      "    This function is intended specifically for use with numeric values and may\n",
      "    reject non-numeric types.\n",
      "\n",
      "None\n"
     ]
    },
    {
     "data": {
      "text/plain": [
       "6"
      ]
     },
     "execution_count": 11,
     "metadata": {},
     "output_type": "execute_result"
    }
   ],
   "source": [
    "#Exercise 5: Using the builtins import the sum() function. Then display its documentation of this function.\n",
    "#Call the function on the list below and print the result to the console.\n",
    "from builtins import sum\n",
    "print(help(sum))\n",
    "sum([1,2,3])"
   ]
  },
  {
   "cell_type": "code",
   "execution_count": 13,
   "metadata": {},
   "outputs": [
    {
     "name": "stdout",
     "output_type": "stream",
     "text": [
      "2\n"
     ]
    }
   ],
   "source": [
    "#Exercise 6: A global variable counter is given with an incorrectly implemented update_counter() function. \n",
    "# Correct the implementation of the update_counter() function so that you can modify the counter variable from this\n",
    "#function. The call the update_counter function\n",
    "counter=1\n",
    "\n",
    "def update_counter(counter):\n",
    "    counter+=1\n",
    "    print(counter)\n",
    "update_counter(counter)"
   ]
  },
  {
   "cell_type": "code",
   "execution_count": 8,
   "metadata": {},
   "outputs": [
    {
     "name": "stdout",
     "output_type": "stream",
     "text": [
      "40\n",
      "........................................\n"
     ]
    }
   ],
   "source": [
    "#Exercise 7: The following global variables are given: counter,dot_counter and incorrectly implemented update_counters()\n",
    "#function. Correct the implementation of the update_counters() function so that you can modify the values of the given\n",
    "#global variables from this function. Then call update_counters() 40 times.\n",
    "\n",
    "# In response, print the value of the counter and dot_counter global variables to the console as shown below\n",
    "\n",
    "counter=0\n",
    "dot_counter=''\n",
    "\n",
    "def update_counter():\n",
    "    global counter,dot_counter\n",
    "    counter+=1\n",
    "    dot_counter+='.'\n",
    "\n",
    "[update_counter() for _ in range(40)]\n",
    "print(counter)\n",
    "print(dot_counter)"
   ]
  },
  {
   "cell_type": "code",
   "execution_count": 10,
   "metadata": {},
   "outputs": [
    {
     "name": "stdout",
     "output_type": "stream",
     "text": [
      "110\n",
      "..........\n"
     ]
    }
   ],
   "source": [
    "# Exercise 8: A display_info() function was implemented. The function has an incorrectly implemented \n",
    "# internal update_counter() function. Correct the implmentation of this function so that you can modify non-local\n",
    "# variables: counter and dot_counter from the internal function update_counter(). In response call display_info with\n",
    "#number of arguments set to 10. \n",
    "def display_info(number_of_updates=1):\n",
    "    counter=100\n",
    "    dot_counter=''\n",
    "    \n",
    "    def update_counter():\n",
    "        nonlocal counter,dot_counter\n",
    "        counter +=1\n",
    "        dot_counter+= '.'\n",
    "    \n",
    "    [update_counter() for _ in range(number_of_updates)]\n",
    "    \n",
    "    print(counter)\n",
    "    print(dot_counter)\n",
    "\n",
    "display_info(number_of_updates=10)"
   ]
  },
  {
   "cell_type": "code",
   "execution_count": 8,
   "metadata": {},
   "outputs": [
    {
     "name": "stdout",
     "output_type": "stream",
     "text": [
      "sport#summer\n",
      "\n"
     ]
    }
   ],
   "source": [
    "#Exercise 10: Implement a function called stick() that takes any number of bare arguments and return an object of type \n",
    "#str being a concatenation of all arguments of type str passed to the function with '#' sign.\n",
    "def stick(*args):\n",
    "    args=[arg for arg in args if isinstance(arg,str)]\n",
    "    result='#'.join(args)\n",
    "    return result\n",
    "\n",
    "print(stick('sport','summer'))\n",
    "print(stick(3,5,7))"
   ]
  },
  {
   "cell_type": "code",
   "execution_count": 21,
   "metadata": {},
   "outputs": [
    {
     "name": "stdout",
     "output_type": "stream",
     "text": [
      "Apple\n",
      "114\n"
     ]
    }
   ],
   "source": [
    "#Exercise 11: Implement a function called display_info() which prints the name of the comapany (as shown below) and if\n",
    "#the user also passes an argument named price, it prints the price below\n",
    "def display_info(company,**kwargs):\n",
    "    print(company)\n",
    "    for kwarg in kwargs:\n",
    "        if kwarg=='price':\n",
    "            print(kwargs['price'])\n",
    "display_info(company='Apple',price=114)"
   ]
  },
  {
   "cell_type": "code",
   "execution_count": 22,
   "metadata": {},
   "outputs": [],
   "source": [
    "#Exercise 12: Create the simplest class in Python and name it Vehicle.\n",
    "#Use the pass statement\n",
    "class Vehicle:\n",
    "    pass"
   ]
  },
  {
   "cell_type": "code",
   "execution_count": 51,
   "metadata": {},
   "outputs": [
    {
     "name": "stdout",
     "output_type": "stream",
     "text": [
      "<class 'type'>\n"
     ]
    }
   ],
   "source": [
    "#Exercise 13: Create the simplest Python class named phone and display its type to the console\n",
    "class Phone:\n",
    "    pass\n",
    "print(type(Phone))"
   ]
  },
  {
   "cell_type": "code",
   "execution_count": 32,
   "metadata": {},
   "outputs": [],
   "source": [
    "#Exercise 14: Create a class named Vehicle and add the following documentation:\n",
    "'''This is a vehicle class'''\n",
    "class Vehicle:\n",
    "    '''This is a vehicle class'''"
   ]
  },
  {
   "cell_type": "code",
   "execution_count": 34,
   "metadata": {},
   "outputs": [
    {
     "data": {
      "text/plain": [
       "'Vehicle'"
      ]
     },
     "execution_count": 34,
     "metadata": {},
     "output_type": "execute_result"
    }
   ],
   "source": [
    "#Exercise 15: Display the value of the __name__ attribute to the Vehicle class to the console\n",
    "Vehicle.__name__"
   ]
  },
  {
   "cell_type": "code",
   "execution_count": 37,
   "metadata": {},
   "outputs": [
    {
     "name": "stdout",
     "output_type": "stream",
     "text": [
      "dict_keys(['__module__', '__doc__', '__dict__', '__weakref__'])\n"
     ]
    }
   ],
   "source": [
    "#Exercise 16: Implementation of the container class is given:\n",
    "class Container:\n",
    "    '''This is a Container Class'''\n",
    "print(Container.__dict__.keys())"
   ]
  },
  {
   "cell_type": "code",
   "execution_count": 39,
   "metadata": {},
   "outputs": [
    {
     "name": "stdout",
     "output_type": "stream",
     "text": [
      "__main__\n"
     ]
    }
   ],
   "source": [
    "#Exercise 17: Display the value of the __module__ attribute of the Container class to the console.\n",
    "print(Container.__module__)"
   ]
  },
  {
   "cell_type": "code",
   "execution_count": 40,
   "metadata": {},
   "outputs": [
    {
     "data": {
      "text/plain": [
       "__main__.Container"
      ]
     },
     "execution_count": 40,
     "metadata": {},
     "output_type": "execute_result"
    }
   ],
   "source": [
    "#Exercise 18: Create an instance of the Container class and assign it to the container variable. Print the type of container variable\n",
    "#to the console\n",
    "class Container:\n",
    "    pass\n",
    "container=Container()\n",
    "type(container)"
   ]
  },
  {
   "cell_type": "code",
   "execution_count": 41,
   "metadata": {},
   "outputs": [
    {
     "data": {
      "text/plain": [
       "__main__.Container"
      ]
     },
     "execution_count": 41,
     "metadata": {},
     "output_type": "execute_result"
    }
   ],
   "source": [
    "#Exercise 19: Create an instance of the Container class and assign to the container variable. Then print the class\n",
    "#attribute value of the container instance\n",
    "container.__class__"
   ]
  },
  {
   "cell_type": "code",
   "execution_count": 43,
   "metadata": {},
   "outputs": [
    {
     "name": "stdout",
     "output_type": "stream",
     "text": [
      "True\n"
     ]
    }
   ],
   "source": [
    "#Exercise 20: Define a simple class named Model. Then create an instance of this class named model. \n",
    "#Using the built-in function isinstance() check if the model is an instance of the Model class.\n",
    "class Model:\n",
    "    pass\n",
    "model=Model()\n",
    "print(isinstance(model,Model))"
   ]
  },
  {
   "cell_type": "code",
   "execution_count": 44,
   "metadata": {},
   "outputs": [
    {
     "name": "stdout",
     "output_type": "stream",
     "text": [
      "True\n",
      "False\n"
     ]
    }
   ],
   "source": [
    "#Exercise 21: Define two empty classes named: Model, View, then create two instances (one for each class) model,view\n",
    "#Using the built-in function isinstance() check whether the model and view objects are instances of the Model class.\n",
    "class Model:\n",
    "    pass\n",
    "class View:\n",
    "    pass\n",
    "view=View()\n",
    "model=Model()\n",
    "print(isinstance(model,Model))\n",
    "print(isinstance(view,Model))"
   ]
  },
  {
   "cell_type": "code",
   "execution_count": 47,
   "metadata": {},
   "outputs": [
    {
     "name": "stdout",
     "output_type": "stream",
     "text": [
      "True\n",
      "False\n",
      "False\n"
     ]
    }
   ],
   "source": [
    "#Exercise 22: Three objects were created (object1,object2,object3). Using the built-in function isinstance() check\n",
    "#whether object1,object2,object3 are instances of the Model class.\n",
    "class Model:\n",
    "    pass\n",
    "object1=Model()\n",
    "object2=[Model(),Model()]\n",
    "object3={}\n",
    "print(isinstance(object1,Model))\n",
    "print(isinstance(object2,Model))\n",
    "print(isinstance(object3,Model))"
   ]
  },
  {
   "cell_type": "code",
   "execution_count": 50,
   "metadata": {},
   "outputs": [
    {
     "name": "stdout",
     "output_type": "stream",
     "text": [
      "<class 'mappingproxy'>\n",
      "<class 'dict'>\n"
     ]
    }
   ],
   "source": [
    "#Exercise 23: Implement an empty class named Container. Then create an instance of this class named container. In\n",
    "#response, display the type of dictionary attribute __dict__ for the Container class and for the container instance\n",
    "class Container:\n",
    "    pass\n",
    "container=Container()\n",
    "print(type(Container.__dict__))\n",
    "print(type(container.__dict__))"
   ]
  },
  {
   "cell_type": "code",
   "execution_count": 52,
   "metadata": {},
   "outputs": [
    {
     "name": "stdout",
     "output_type": "stream",
     "text": [
      "True\n",
      "True\n"
     ]
    }
   ],
   "source": [
    "# Exercise 24: Two empty classes are defined model and view. Using the built-in function issubclass() check if the classes\n",
    "#Model and View are derived classes(subclasses) of the built-in object class.\n",
    "class Model:\n",
    "    pass\n",
    "class View:\n",
    "    pass\n",
    "print(issubclass(Model,object))\n",
    "print(issubclass(View,object))"
   ]
  },
  {
   "cell_type": "code",
   "execution_count": 53,
   "metadata": {},
   "outputs": [
    {
     "name": "stdout",
     "output_type": "stream",
     "text": [
      "Apple\n"
     ]
    }
   ],
   "source": [
    "#Exercise 25: Implement a class named Phone. In the Phone class, define a class attribute named brand and set its value to 'Apple'\n",
    "# Then using dot notation and print() function, display the value of the brand attribute of the Phone class to the \n",
    "#console\n",
    "class Phone:\n",
    "    brand='Apple'\n",
    "print(Phone.brand)"
   ]
  },
  {
   "cell_type": "code",
   "execution_count": 59,
   "metadata": {},
   "outputs": [
    {
     "name": "stdout",
     "output_type": "stream",
     "text": [
      "Apple\n",
      "iPhone X\n"
     ]
    }
   ],
   "source": [
    "#Exercise 26: Implement a class named Phone. In the Phone class, define two class attributes with names: brand, model and set their\n",
    "#values to 'Apple' and 'iPhone X'\n",
    "class Phone:\n",
    "    brand='Apple'\n",
    "    model='iPhone X'\n",
    "\n",
    "print(getattr(Phone,'brand'))\n",
    "print(getattr(Phone,'model'))"
   ]
  },
  {
   "cell_type": "code",
   "execution_count": 60,
   "metadata": {},
   "outputs": [
    {
     "name": "stdout",
     "output_type": "stream",
     "text": [
      "Samsung\n",
      "Galaxy\n"
     ]
    }
   ],
   "source": [
    "#Exercise 27: A class named Phone is defined below. Using the dot notation, modify the value of the attributes:\n",
    "#brand to 'Samsung', model to 'Galaxy' and print the values\n",
    "class Phone:\n",
    "    brand='Apple'\n",
    "    model='IphoneX'\n",
    "\n",
    "Phone.brand='Samsung'\n",
    "Phone.model='Galaxy'\n",
    "print(Phone.brand)\n",
    "print(Phone.model)"
   ]
  },
  {
   "cell_type": "code",
   "execution_count": 62,
   "metadata": {},
   "outputs": [
    {
     "name": "stdout",
     "output_type": "stream",
     "text": [
      "Acer\n",
      "Predator\n"
     ]
    }
   ],
   "source": [
    "#Exercise 28: A class named laptop is defined below. Using the setattr() built-in function modify the value of\n",
    "#attributes: brand to 'Acer', model to 'Predator'. In response, using the built-in function getattr() and print(),\n",
    "#print the values of the brand and model attributes to the console show below.\n",
    "class Laptop:\n",
    "    brand='Lenovo'\n",
    "    model='ThinkPad'\n",
    "Laptop.brand='Acer'\n",
    "Laptop.model='Predator'\n",
    "print(getattr(Laptop,'brand'))\n",
    "print(getattr(Laptop,'model'))"
   ]
  },
  {
   "cell_type": "code",
   "execution_count": 66,
   "metadata": {},
   "outputs": [
    {
     "name": "stdout",
     "output_type": "stream",
     "text": [
      "['sector', 'sector_code', 'is_public_company', 'country']\n"
     ]
    }
   ],
   "source": [
    "#Exercise 29: Implement a class named OnlineShop with the class attributes set appropriately: sector to the value\n",
    "#'electronics' and sector_code to the value of 'ELE', is_public_company to the value False. Then using dot notation\n",
    "#add a class attribute called country and set its value to 'USA'. In reponse print the user_defined OnlineShop class\n",
    "#attribute names as shown below.\n",
    "class OnlineShop:\n",
    "    sector='electronics'\n",
    "    sector_code='ELE'\n",
    "    is_public_company= False\n",
    "\n",
    "OnlineShop.country='USA'\n",
    "attrs=[attr for attr in OnlineShop.__dict__.keys() if not attr.startswith('_')]\n",
    "print(attrs)"
   ]
  },
  {
   "cell_type": "code",
   "execution_count": 70,
   "metadata": {},
   "outputs": [
    {
     "name": "stdout",
     "output_type": "stream",
     "text": [
      "['sector_code', 'is_public_company']\n"
     ]
    }
   ],
   "source": [
    "#Exercise 30: A class named OnlineShop was defined with the class attributes set accordingly:\n",
    "#sector to the value 'electronics'\n",
    "#sector_code to the value 'ELE'\n",
    "# is_public_company to the value False\n",
    "# using the del statement remove the class attribute named sector_code. In response print the rest of the user_defined\n",
    "#OnlineShop class attribute names as list as shown below.\n",
    "class OnlineShop:\n",
    "    sector = 'electronics'\n",
    "    sector_code = 'ELE'\n",
    "    is_public_company = False\n",
    "\n",
    "del OnlineShop.sector\n",
    "\n",
    "attrs=[attr for attr in OnlineShop.__dict__.keys() if not attr.startswith('_')]\n",
    "print(attrs)"
   ]
  },
  {
   "cell_type": "code",
   "execution_count": 72,
   "metadata": {},
   "outputs": [
    {
     "name": "stdout",
     "output_type": "stream",
     "text": [
      "['sector', 'is_public_company']\n"
     ]
    }
   ],
   "source": [
    "# Exercise 31: A class named OnlineShop was defined with the class attributes set accordingly: \n",
    "# is_public_company to the value False\n",
    "# using the del statement remove the class attribute named sector_code. In response print the rest of the user_defined\n",
    "#OnlineShop class attribute names as list as shown below.\n",
    "#Using the builtin delattr() function remove the class attribute sector_code. In response, print the rest of the\n",
    "# of the user_defined OnlineShop class attribute names as a list as shown below.\n",
    "class OnlineShop:\n",
    "    sector ='electronics'\n",
    "    sector_code='ELE'\n",
    "    is_public_company = False\n",
    "\n",
    "delattr(OnlineShop,'sector_code')\n",
    "attrs=[attr for attr in OnlineShop.__dict__.keys() if not attr.startswith('_')]\n",
    "print(attrs)"
   ]
  },
  {
   "cell_type": "code",
   "execution_count": 75,
   "metadata": {},
   "outputs": [
    {
     "ename": "AttributeError",
     "evalue": "type object 'OnlineShop' has no attribute 'attrs'",
     "output_type": "error",
     "traceback": [
      "\u001b[1;31m---------------------------------------------------------------------------\u001b[0m",
      "\u001b[1;31mAttributeError\u001b[0m                            Traceback (most recent call last)",
      "\u001b[1;32m<ipython-input-75-a81358ec7a3d>\u001b[0m in \u001b[0;36m<module>\u001b[1;34m\u001b[0m\n\u001b[0;32m     10\u001b[0m \u001b[1;33m\u001b[0m\u001b[0m\n\u001b[0;32m     11\u001b[0m \u001b[0mattrs\u001b[0m\u001b[1;33m=\u001b[0m\u001b[1;33m[\u001b[0m\u001b[0mattr\u001b[0m \u001b[1;32mfor\u001b[0m \u001b[0mattr\u001b[0m \u001b[1;32min\u001b[0m \u001b[0mOnlineShop\u001b[0m\u001b[1;33m.\u001b[0m\u001b[0m__dict__\u001b[0m\u001b[1;33m.\u001b[0m\u001b[0mkeys\u001b[0m\u001b[1;33m(\u001b[0m\u001b[1;33m)\u001b[0m \u001b[1;32mif\u001b[0m \u001b[1;32mnot\u001b[0m \u001b[0mattr\u001b[0m\u001b[1;33m.\u001b[0m\u001b[0mstartswith\u001b[0m\u001b[1;33m(\u001b[0m\u001b[1;34m'_'\u001b[0m\u001b[1;33m)\u001b[0m\u001b[1;33m]\u001b[0m\u001b[1;33m\u001b[0m\u001b[1;33m\u001b[0m\u001b[0m\n\u001b[1;32m---> 12\u001b[1;33m \u001b[0mprint\u001b[0m\u001b[1;33m(\u001b[0m\u001b[0mattrs\u001b[0m\u001b[1;33m,\u001b[0m\u001b[0mOnlineShop\u001b[0m\u001b[1;33m.\u001b[0m\u001b[0mattrs\u001b[0m\u001b[1;33m)\u001b[0m\u001b[1;33m\u001b[0m\u001b[1;33m\u001b[0m\u001b[0m\n\u001b[0m",
      "\u001b[1;31mAttributeError\u001b[0m: type object 'OnlineShop' has no attribute 'attrs'"
     ]
    }
   ],
   "source": [
    "# Exercise 32: A class named OnlineShop was defined with the class attributes set accordingly: \n",
    "# is_public_company to the value False\n",
    "# using the del statement remove the class attribute named sector_code. In response print the rest of the user_defined\n",
    "#OnlineShop class attribute names as list as shown below.\n",
    "# Display all user_defined OnlineShop class attribute names with their values as shown below.\n",
    "class OnlineShop:\n",
    "    sector='electronics'\n",
    "    sector_code= 'ELE'\n",
    "    is_public_company = False\n",
    "\n",
    "attrs=[attr for attr in OnlineShop.__dict__.keys() if not attr.startswith('_')]\n",
    "print(attrs,OnlineShop.attrs)"
   ]
  },
  {
   "cell_type": "code",
   "execution_count": null,
   "metadata": {},
   "outputs": [],
   "source": []
  }
 ],
 "metadata": {
  "kernelspec": {
   "display_name": "Python 3",
   "language": "python",
   "name": "python3"
  },
  "language_info": {
   "codemirror_mode": {
    "name": "ipython",
    "version": 3
   },
   "file_extension": ".py",
   "mimetype": "text/x-python",
   "name": "python",
   "nbconvert_exporter": "python",
   "pygments_lexer": "ipython3",
   "version": "3.8.5"
  }
 },
 "nbformat": 4,
 "nbformat_minor": 4
}
