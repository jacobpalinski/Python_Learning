{
 "cells": [
  {
   "cell_type": "markdown",
   "metadata": {},
   "source": [
    "## PYNATIVE"
   ]
  },
  {
   "cell_type": "code",
   "execution_count": 1,
   "metadata": {},
   "outputs": [],
   "source": [
    "#OOP 1 Create a Vehicle class with max_speed and mileage as instance attributes\n",
    "class Vehicle:\n",
    "    \n",
    "    def __init__(self,max_speed,mileage):\n",
    "        self.max_speed=max_speed\n",
    "        self.mileage=mileage"
   ]
  },
  {
   "cell_type": "code",
   "execution_count": 2,
   "metadata": {},
   "outputs": [],
   "source": [
    "#OOP 2 Create a Vehcile class without any variables or methods\n",
    "class Vehicle:\n",
    "    pass"
   ]
  },
  {
   "cell_type": "code",
   "execution_count": 6,
   "metadata": {},
   "outputs": [
    {
     "data": {
      "text/plain": [
       "'Vehicle Name: Volvo Speed: 180 Mileage: 12'"
      ]
     },
     "execution_count": 6,
     "metadata": {},
     "output_type": "execute_result"
    }
   ],
   "source": [
    "#OOP 3 Create a child class Bus that will inherit all of the variables and methods of the Vehicle class\n",
    "class Vehicle:\n",
    "    \n",
    "    def __init__(self,name,max_speed,mileage):\n",
    "        self.name=name\n",
    "        self.max_speed=max_speed\n",
    "        self.mileage=mileage\n",
    "    \n",
    "    def details(self):\n",
    "        return 'Vehicle Name: {} Speed: {} Mileage: {}'.format(self.name,self.max_speed,self.mileage)\n",
    "\n",
    "class Bus(Vehicle):\n",
    "    \n",
    "    def __init__(self,name,max_speed,mileage):\n",
    "        super().__init__(name,max_speed,mileage)\n",
    "\n",
    "x=Bus('Volvo',180,12)\n",
    "x.details()"
   ]
  },
  {
   "cell_type": "code",
   "execution_count": 14,
   "metadata": {},
   "outputs": [
    {
     "data": {
      "text/plain": [
       "'The seating capacity of a Volvo is 50 passengers'"
      ]
     },
     "execution_count": 14,
     "metadata": {},
     "output_type": "execute_result"
    }
   ],
   "source": [
    "#OOP Exercise 4: Class Inheritance\n",
    "class Vehicle:\n",
    "    def __init__(self,name,max_speed,mileage):\n",
    "        self.name=name\n",
    "        self.max_speed=max_speed\n",
    "        self.mileage=mileage\n",
    "    \n",
    "    def seating_capacity(self,capacity):\n",
    "        return f\"The seating capacity of a {self.name} is {capacity} passengers\"\n",
    "    \n",
    "class Bus(Vehicle):\n",
    "    def seating_capacity(self,capacity=50):\n",
    "        return super().seating_capacity(capacity=50)\n",
    "\n",
    "x=Bus('Volvo',180,12)\n",
    "x.seating_capacity()"
   ]
  },
  {
   "cell_type": "code",
   "execution_count": 13,
   "metadata": {},
   "outputs": [
    {
     "name": "stdout",
     "output_type": "stream",
     "text": [
      "white\n",
      "white\n"
     ]
    }
   ],
   "source": [
    "#OOP Exercise 5: Define a property that should have the same value for every class instance\n",
    "class Vehicle:\n",
    "    \n",
    "    def __init__(self,name,max_speed,mileage,color='white'):\n",
    "        self.name=name\n",
    "        self.max_speed=max_speed\n",
    "        self.mileage=mileage\n",
    "        self.color=color\n",
    "\n",
    "class Bus(Vehicle):\n",
    "    pass\n",
    "\n",
    "class Car(Vehicle):\n",
    "    pass\n",
    "\n",
    "a=Bus('Benz',100,180)\n",
    "b=Car('Ferrari',200,20)\n",
    "print(a.color)\n",
    "print(b.color)"
   ]
  },
  {
   "cell_type": "code",
   "execution_count": 15,
   "metadata": {},
   "outputs": [
    {
     "name": "stdout",
     "output_type": "stream",
     "text": [
      "Total Bus fare is: 5500.0\n"
     ]
    }
   ],
   "source": [
    "#OOP Exercise 6: Class Inheritance\n",
    "class Vehicle:\n",
    "    def __init__(self,name,mileage,capacity):\n",
    "        self.name=name\n",
    "        self.mileage=mileage\n",
    "        self.capacity=capacity\n",
    "    \n",
    "    def fare(self):\n",
    "        return self.capacity*100\n",
    "    \n",
    "class Bus(Vehicle):\n",
    "    def fare(self):\n",
    "        return self.capacity*100 +self.capacity*100*0.1\n",
    "\n",
    "School_bus=Bus(\"School Volvo\",12,50)\n",
    "print(\"Total Bus fare is:\", School_bus.fare())"
   ]
  },
  {
   "cell_type": "code",
   "execution_count": 17,
   "metadata": {},
   "outputs": [
    {
     "data": {
      "text/plain": [
       "__main__.Bus"
      ]
     },
     "execution_count": 17,
     "metadata": {},
     "output_type": "execute_result"
    }
   ],
   "source": [
    "# OOP Exercise 7: Determine which class a given Bus object belongs to\n",
    "class Vehicle:\n",
    "    def __init__(self,name,mileage,capacity):\n",
    "        self.name=name\n",
    "        self.mileage=mileage\n",
    "        self.capacity=capacity\n",
    "\n",
    "class Bus(Vehicle):\n",
    "    pass\n",
    "\n",
    "School_bus=Bus(\"School Volvo\",12,50)\n",
    "type(School_bus)"
   ]
  },
  {
   "cell_type": "code",
   "execution_count": 18,
   "metadata": {},
   "outputs": [
    {
     "name": "stdout",
     "output_type": "stream",
     "text": [
      "True\n"
     ]
    }
   ],
   "source": [
    "# OOP Exercise 8: Determine if School_bus is also an instance of the Vehicle class\n",
    "class Vehicle:\n",
    "    def __init__(self,name,mileage,capacity):\n",
    "        self.name=name\n",
    "        self.mileage=mileage\n",
    "        self.capacity=capacity\n",
    "\n",
    "class Bus(Vehicle):\n",
    "    pass\n",
    "\n",
    "School_bus=Bus(\"School Volvo\",12,50)\n",
    "print(isinstance(School_bus,Vehicle))"
   ]
  },
  {
   "cell_type": "code",
   "execution_count": 22,
   "metadata": {},
   "outputs": [
    {
     "name": "stdout",
     "output_type": "stream",
     "text": [
      "3.8.5 (default, Sep  3 2020, 21:29:08) [MSC v.1916 64 bit (AMD64)]\n"
     ]
    }
   ],
   "source": [
    "#Exercise 0: Print version to the console\n",
    "import sys\n",
    "print(sys.version)"
   ]
  },
  {
   "cell_type": "code",
   "execution_count": 26,
   "metadata": {},
   "outputs": [
    {
     "name": "stdout",
     "output_type": "stream",
     "text": [
      "MAXYEAR\n",
      "MINYEAR\n",
      "__builtins__\n",
      "__cached__\n",
      "__doc__\n",
      "__file__\n",
      "__loader__\n",
      "__name__\n",
      "__package__\n",
      "__spec__\n",
      "date\n",
      "datetime\n",
      "datetime_CAPI\n",
      "sys\n",
      "time\n",
      "timedelta\n",
      "timezone\n",
      "tzinfo\n"
     ]
    }
   ],
   "source": [
    "# Exercise 1: Import the Datetime module and display the namespace of this module\n",
    "import datetime\n",
    "for name in sorted(datetime.__dict__):\n",
    "    print(name)"
   ]
  },
  {
   "cell_type": "code",
   "execution_count": 2,
   "metadata": {},
   "outputs": [
    {
     "name": "stdout",
     "output_type": "stream",
     "text": [
      "__module__\n",
      "__init__\n",
      "__repr__\n",
      "get_id\n",
      "__dict__\n",
      "__weakref__\n",
      "__doc__\n"
     ]
    }
   ],
   "source": [
    "#Exercise 2: The Product class is given below. Display the namespace (value of the __dict__ attribute) of this class as\n",
    "#shown below\n",
    "class Product:\n",
    "    \n",
    "    def __init__(self,product_name,price):\n",
    "        self.product_id=self.get_id()\n",
    "        self.product_name=product_name\n",
    "        self.price=price\n",
    "    \n",
    "    def __repr__(self):\n",
    "        return f\"Product(product_name='{self.product_name}',price={self.price})\"\n",
    "    \n",
    "    @staticmethod\n",
    "    def get_id():\n",
    "        return str(uuid.uuid4().fields[-1])[:6]\n",
    "\n",
    "for name in (Product.__dict__):\n",
    "    print(name)"
   ]
  },
  {
   "cell_type": "code",
   "execution_count": 3,
   "metadata": {},
   "outputs": [
    {
     "name": "stdout",
     "output_type": "stream",
     "text": [
      "product_name\n",
      "product_id\n",
      "price\n"
     ]
    }
   ],
   "source": [
    "#Exercise 3: The product class is specified. An instance of this class named product was created. Display the namespace\n",
    "#of this instance shown below\n",
    "import uuid\n",
    "\n",
    "class Product:\n",
    "    def __init__(self,product_name,product_id,price):\n",
    "        self.product_name=product_name\n",
    "        self.product_id=product_id\n",
    "        self.price=price\n",
    "        \n",
    "    def __repr(self):\n",
    "        return f\"Product(product_name='{self.product_name}',price={self.price})\"\n",
    "    \n",
    "product=Product('Mobile Phone','54274',2900)\n",
    "\n",
    "for name in product.__dict__:\n",
    "    print(name)"
   ]
  },
  {
   "cell_type": "code",
   "execution_count": 8,
   "metadata": {},
   "outputs": [
    {
     "data": {
      "text/plain": [
       "('company', 'country', 'price', 'currency')"
      ]
     },
     "execution_count": 8,
     "metadata": {},
     "output_type": "execute_result"
    }
   ],
   "source": [
    "#Exercise 4: The stock info function is defined. Using the appropriate attribute of the stock_info() function, display\n",
    "#the names of all arguments to this function to the console.\n",
    "def stock_info(company, country, price,currency):\n",
    "    return f'Company: {company}\\nCountry: {country}\\Price: {currency}{price}'\n",
    "\n",
    "stock_info('Apple','USA',115,'$')\n",
    "\n",
    "stock_info.__code__.co_varnames"
   ]
  },
  {
   "cell_type": "code",
   "execution_count": 11,
   "metadata": {},
   "outputs": [
    {
     "name": "stdout",
     "output_type": "stream",
     "text": [
      "Help on built-in function sum in module builtins:\n",
      "\n",
      "sum(iterable, /, start=0)\n",
      "    Return the sum of a 'start' value (default: 0) plus an iterable of numbers\n",
      "    \n",
      "    When the iterable is empty, return the start value.\n",
      "    This function is intended specifically for use with numeric values and may\n",
      "    reject non-numeric types.\n",
      "\n",
      "None\n"
     ]
    },
    {
     "data": {
      "text/plain": [
       "6"
      ]
     },
     "execution_count": 11,
     "metadata": {},
     "output_type": "execute_result"
    }
   ],
   "source": [
    "#Exercise 5: Using the builtins import the sum() function. Then display its documentation of this function.\n",
    "#Call the function on the list below and print the result to the console.\n",
    "from builtins import sum\n",
    "print(help(sum))\n",
    "sum([1,2,3])"
   ]
  },
  {
   "cell_type": "code",
   "execution_count": 13,
   "metadata": {},
   "outputs": [
    {
     "name": "stdout",
     "output_type": "stream",
     "text": [
      "2\n"
     ]
    }
   ],
   "source": [
    "#Exercise 6: A global variable counter is given with an incorrectly implemented update_counter() function. \n",
    "# Correct the implementation of the update_counter() function so that you can modify the counter variable from this\n",
    "#function. The call the update_counter function\n",
    "counter=1\n",
    "\n",
    "def update_counter(counter):\n",
    "    counter+=1\n",
    "    print(counter)\n",
    "update_counter(counter)"
   ]
  },
  {
   "cell_type": "code",
   "execution_count": 8,
   "metadata": {},
   "outputs": [
    {
     "name": "stdout",
     "output_type": "stream",
     "text": [
      "40\n",
      "........................................\n"
     ]
    }
   ],
   "source": [
    "#Exercise 7: The following global variables are given: counter,dot_counter and incorrectly implemented update_counters()\n",
    "#function. Correct the implementation of the update_counters() function so that you can modify the values of the given\n",
    "#global variables from this function. Then call update_counters() 40 times.\n",
    "\n",
    "# In response, print the value of the counter and dot_counter global variables to the console as shown below\n",
    "\n",
    "counter=0\n",
    "dot_counter=''\n",
    "\n",
    "def update_counter():\n",
    "    global counter,dot_counter\n",
    "    counter+=1\n",
    "    dot_counter+='.'\n",
    "\n",
    "[update_counter() for _ in range(40)]\n",
    "print(counter)\n",
    "print(dot_counter)"
   ]
  },
  {
   "cell_type": "code",
   "execution_count": 10,
   "metadata": {},
   "outputs": [
    {
     "name": "stdout",
     "output_type": "stream",
     "text": [
      "110\n",
      "..........\n"
     ]
    }
   ],
   "source": [
    "# Exercise 8: A display_info() function was implemented. The function has an incorrectly implemented \n",
    "# internal update_counter() function. Correct the implmentation of this function so that you can modify non-local\n",
    "# variables: counter and dot_counter from the internal function update_counter(). In response call display_info with\n",
    "#number of arguments set to 10. \n",
    "def display_info(number_of_updates=1):\n",
    "    counter=100\n",
    "    dot_counter=''\n",
    "    \n",
    "    def update_counter():\n",
    "        nonlocal counter,dot_counter\n",
    "        counter +=1\n",
    "        dot_counter+= '.'\n",
    "    \n",
    "    [update_counter() for _ in range(number_of_updates)]\n",
    "    \n",
    "    print(counter)\n",
    "    print(dot_counter)\n",
    "\n",
    "display_info(number_of_updates=10)"
   ]
  },
  {
   "cell_type": "code",
   "execution_count": 8,
   "metadata": {},
   "outputs": [
    {
     "name": "stdout",
     "output_type": "stream",
     "text": [
      "sport#summer\n",
      "\n"
     ]
    }
   ],
   "source": [
    "#Exercise 10: Implement a function called stick() that takes any number of bare arguments and return an object of type \n",
    "#str being a concatenation of all arguments of type str passed to the function with '#' sign.\n",
    "def stick(*args):\n",
    "    args=[arg for arg in args if isinstance(arg,str)]\n",
    "    result='#'.join(args)\n",
    "    return result\n",
    "\n",
    "print(stick('sport','summer'))\n",
    "print(stick(3,5,7))"
   ]
  },
  {
   "cell_type": "code",
   "execution_count": 21,
   "metadata": {},
   "outputs": [
    {
     "name": "stdout",
     "output_type": "stream",
     "text": [
      "Apple\n",
      "114\n"
     ]
    }
   ],
   "source": [
    "#Exercise 11: Implement a function called display_info() which prints the name of the comapany (as shown below) and if\n",
    "#the user also passes an argument named price, it prints the price below\n",
    "def display_info(company,**kwargs):\n",
    "    print(company)\n",
    "    for kwarg in kwargs:\n",
    "        if kwarg=='price':\n",
    "            print(kwargs['price'])\n",
    "display_info(company='Apple',price=114)"
   ]
  },
  {
   "cell_type": "code",
   "execution_count": 22,
   "metadata": {},
   "outputs": [],
   "source": [
    "#Exercise 12: Create the simplest class in Python and name it Vehicle.\n",
    "#Use the pass statement\n",
    "class Vehicle:\n",
    "    pass"
   ]
  },
  {
   "cell_type": "code",
   "execution_count": 51,
   "metadata": {},
   "outputs": [
    {
     "name": "stdout",
     "output_type": "stream",
     "text": [
      "<class 'type'>\n"
     ]
    }
   ],
   "source": [
    "#Exercise 13: Create the simplest Python class named phone and display its type to the console\n",
    "class Phone:\n",
    "    pass\n",
    "print(type(Phone))"
   ]
  },
  {
   "cell_type": "code",
   "execution_count": 32,
   "metadata": {},
   "outputs": [],
   "source": [
    "#Exercise 14: Create a class named Vehicle and add the following documentation:\n",
    "'''This is a vehicle class'''\n",
    "class Vehicle:\n",
    "    '''This is a vehicle class'''"
   ]
  },
  {
   "cell_type": "code",
   "execution_count": 34,
   "metadata": {},
   "outputs": [
    {
     "data": {
      "text/plain": [
       "'Vehicle'"
      ]
     },
     "execution_count": 34,
     "metadata": {},
     "output_type": "execute_result"
    }
   ],
   "source": [
    "#Exercise 15: Display the value of the __name__ attribute to the Vehicle class to the console\n",
    "Vehicle.__name__"
   ]
  },
  {
   "cell_type": "code",
   "execution_count": 37,
   "metadata": {},
   "outputs": [
    {
     "name": "stdout",
     "output_type": "stream",
     "text": [
      "dict_keys(['__module__', '__doc__', '__dict__', '__weakref__'])\n"
     ]
    }
   ],
   "source": [
    "#Exercise 16: Implementation of the container class is given:\n",
    "class Container:\n",
    "    '''This is a Container Class'''\n",
    "print(Container.__dict__.keys())"
   ]
  },
  {
   "cell_type": "code",
   "execution_count": 39,
   "metadata": {},
   "outputs": [
    {
     "name": "stdout",
     "output_type": "stream",
     "text": [
      "__main__\n"
     ]
    }
   ],
   "source": [
    "#Exercise 17: Display the value of the __module__ attribute of the Container class to the console.\n",
    "print(Container.__module__)"
   ]
  },
  {
   "cell_type": "code",
   "execution_count": 40,
   "metadata": {},
   "outputs": [
    {
     "data": {
      "text/plain": [
       "__main__.Container"
      ]
     },
     "execution_count": 40,
     "metadata": {},
     "output_type": "execute_result"
    }
   ],
   "source": [
    "#Exercise 18: Create an instance of the Container class and assign it to the container variable. Print the type of container variable\n",
    "#to the console\n",
    "class Container:\n",
    "    pass\n",
    "container=Container()\n",
    "type(container)"
   ]
  },
  {
   "cell_type": "code",
   "execution_count": 41,
   "metadata": {},
   "outputs": [
    {
     "data": {
      "text/plain": [
       "__main__.Container"
      ]
     },
     "execution_count": 41,
     "metadata": {},
     "output_type": "execute_result"
    }
   ],
   "source": [
    "#Exercise 19: Create an instance of the Container class and assign to the container variable. Then print the class\n",
    "#attribute value of the container instance\n",
    "container.__class__"
   ]
  },
  {
   "cell_type": "code",
   "execution_count": 43,
   "metadata": {},
   "outputs": [
    {
     "name": "stdout",
     "output_type": "stream",
     "text": [
      "True\n"
     ]
    }
   ],
   "source": [
    "#Exercise 20: Define a simple class named Model. Then create an instance of this class named model. \n",
    "#Using the built-in function isinstance() check if the model is an instance of the Model class.\n",
    "class Model:\n",
    "    pass\n",
    "model=Model()\n",
    "print(isinstance(model,Model))"
   ]
  },
  {
   "cell_type": "code",
   "execution_count": 44,
   "metadata": {},
   "outputs": [
    {
     "name": "stdout",
     "output_type": "stream",
     "text": [
      "True\n",
      "False\n"
     ]
    }
   ],
   "source": [
    "#Exercise 21: Define two empty classes named: Model, View, then create two instances (one for each class) model,view\n",
    "#Using the built-in function isinstance() check whether the model and view objects are instances of the Model class.\n",
    "class Model:\n",
    "    pass\n",
    "class View:\n",
    "    pass\n",
    "view=View()\n",
    "model=Model()\n",
    "print(isinstance(model,Model))\n",
    "print(isinstance(view,Model))"
   ]
  },
  {
   "cell_type": "code",
   "execution_count": 47,
   "metadata": {},
   "outputs": [
    {
     "name": "stdout",
     "output_type": "stream",
     "text": [
      "True\n",
      "False\n",
      "False\n"
     ]
    }
   ],
   "source": [
    "#Exercise 22: Three objects were created (object1,object2,object3). Using the built-in function isinstance() check\n",
    "#whether object1,object2,object3 are instances of the Model class.\n",
    "class Model:\n",
    "    pass\n",
    "object1=Model()\n",
    "object2=[Model(),Model()]\n",
    "object3={}\n",
    "print(isinstance(object1,Model))\n",
    "print(isinstance(object2,Model))\n",
    "print(isinstance(object3,Model))"
   ]
  },
  {
   "cell_type": "code",
   "execution_count": 50,
   "metadata": {},
   "outputs": [
    {
     "name": "stdout",
     "output_type": "stream",
     "text": [
      "<class 'mappingproxy'>\n",
      "<class 'dict'>\n"
     ]
    }
   ],
   "source": [
    "#Exercise 23: Implement an empty class named Container. Then create an instance of this class named container. In\n",
    "#response, display the type of dictionary attribute __dict__ for the Container class and for the container instance\n",
    "class Container:\n",
    "    pass\n",
    "container=Container()\n",
    "print(type(Container.__dict__))\n",
    "print(type(container.__dict__))"
   ]
  },
  {
   "cell_type": "code",
   "execution_count": 52,
   "metadata": {},
   "outputs": [
    {
     "name": "stdout",
     "output_type": "stream",
     "text": [
      "True\n",
      "True\n"
     ]
    }
   ],
   "source": [
    "# Exercise 24: Two empty classes are defined model and view. Using the built-in function issubclass() check if the classes\n",
    "#Model and View are derived classes(subclasses) of the built-in object class.\n",
    "class Model:\n",
    "    pass\n",
    "class View:\n",
    "    pass\n",
    "print(issubclass(Model,object))\n",
    "print(issubclass(View,object))"
   ]
  },
  {
   "cell_type": "code",
   "execution_count": 53,
   "metadata": {},
   "outputs": [
    {
     "name": "stdout",
     "output_type": "stream",
     "text": [
      "Apple\n"
     ]
    }
   ],
   "source": [
    "#Exercise 25: Implement a class named Phone. In the Phone class, define a class attribute named brand and set its value to 'Apple'\n",
    "# Then using dot notation and print() function, display the value of the brand attribute of the Phone class to the \n",
    "#console\n",
    "class Phone:\n",
    "    brand='Apple'\n",
    "print(Phone.brand)"
   ]
  },
  {
   "cell_type": "code",
   "execution_count": 59,
   "metadata": {},
   "outputs": [
    {
     "name": "stdout",
     "output_type": "stream",
     "text": [
      "Apple\n",
      "iPhone X\n"
     ]
    }
   ],
   "source": [
    "#Exercise 26: Implement a class named Phone. In the Phone class, define two class attributes with names: brand, model and set their\n",
    "#values to 'Apple' and 'iPhone X'\n",
    "class Phone:\n",
    "    brand='Apple'\n",
    "    model='iPhone X'\n",
    "\n",
    "print(getattr(Phone,'brand'))\n",
    "print(getattr(Phone,'model'))"
   ]
  },
  {
   "cell_type": "code",
   "execution_count": 60,
   "metadata": {},
   "outputs": [
    {
     "name": "stdout",
     "output_type": "stream",
     "text": [
      "Samsung\n",
      "Galaxy\n"
     ]
    }
   ],
   "source": [
    "#Exercise 27: A class named Phone is defined below. Using the dot notation, modify the value of the attributes:\n",
    "#brand to 'Samsung', model to 'Galaxy' and print the values\n",
    "class Phone:\n",
    "    brand='Apple'\n",
    "    model='IphoneX'\n",
    "\n",
    "Phone.brand='Samsung'\n",
    "Phone.model='Galaxy'\n",
    "print(Phone.brand)\n",
    "print(Phone.model)"
   ]
  },
  {
   "cell_type": "code",
   "execution_count": 62,
   "metadata": {},
   "outputs": [
    {
     "name": "stdout",
     "output_type": "stream",
     "text": [
      "Acer\n",
      "Predator\n"
     ]
    }
   ],
   "source": [
    "#Exercise 28: A class named laptop is defined below. Using the setattr() built-in function modify the value of\n",
    "#attributes: brand to 'Acer', model to 'Predator'. In response, using the built-in function getattr() and print(),\n",
    "#print the values of the brand and model attributes to the console show below.\n",
    "class Laptop:\n",
    "    brand='Lenovo'\n",
    "    model='ThinkPad'\n",
    "Laptop.brand='Acer'\n",
    "Laptop.model='Predator'\n",
    "print(getattr(Laptop,'brand'))\n",
    "print(getattr(Laptop,'model'))"
   ]
  },
  {
   "cell_type": "code",
   "execution_count": 66,
   "metadata": {},
   "outputs": [
    {
     "name": "stdout",
     "output_type": "stream",
     "text": [
      "['sector', 'sector_code', 'is_public_company', 'country']\n"
     ]
    }
   ],
   "source": [
    "#Exercise 29: Implement a class named OnlineShop with the class attributes set appropriately: sector to the value\n",
    "#'electronics' and sector_code to the value of 'ELE', is_public_company to the value False. Then using dot notation\n",
    "#add a class attribute called country and set its value to 'USA'. In reponse print the user_defined OnlineShop class\n",
    "#attribute names as shown below.\n",
    "class OnlineShop:\n",
    "    sector='electronics'\n",
    "    sector_code='ELE'\n",
    "    is_public_company= False\n",
    "\n",
    "OnlineShop.country='USA'\n",
    "attrs=[attr for attr in OnlineShop.__dict__.keys() if not attr.startswith('_')]\n",
    "print(attrs)"
   ]
  },
  {
   "cell_type": "code",
   "execution_count": 70,
   "metadata": {},
   "outputs": [
    {
     "name": "stdout",
     "output_type": "stream",
     "text": [
      "['sector_code', 'is_public_company']\n"
     ]
    }
   ],
   "source": [
    "#Exercise 30: A class named OnlineShop was defined with the class attributes set accordingly:\n",
    "#sector to the value 'electronics'\n",
    "#sector_code to the value 'ELE'\n",
    "# is_public_company to the value False\n",
    "# using the del statement remove the class attribute named sector_code. In response print the rest of the user_defined\n",
    "#OnlineShop class attribute names as list as shown below.\n",
    "class OnlineShop:\n",
    "    sector = 'electronics'\n",
    "    sector_code = 'ELE'\n",
    "    is_public_company = False\n",
    "\n",
    "del OnlineShop.sector\n",
    "\n",
    "attrs=[attr for attr in OnlineShop.__dict__.keys() if not attr.startswith('_')]\n",
    "print(attrs)"
   ]
  },
  {
   "cell_type": "code",
   "execution_count": 72,
   "metadata": {},
   "outputs": [
    {
     "name": "stdout",
     "output_type": "stream",
     "text": [
      "['sector', 'is_public_company']\n"
     ]
    }
   ],
   "source": [
    "# Exercise 31: A class named OnlineShop was defined with the class attributes set accordingly: \n",
    "# is_public_company to the value False\n",
    "# using the del statement remove the class attribute named sector_code. In response print the rest of the user_defined\n",
    "#OnlineShop class attribute names as list as shown below.\n",
    "#Using the builtin delattr() function remove the class attribute sector_code. In response, print the rest of the\n",
    "# of the user_defined OnlineShop class attribute names as a list as shown below.\n",
    "class OnlineShop:\n",
    "    sector ='electronics'\n",
    "    sector_code='ELE'\n",
    "    is_public_company = False\n",
    "\n",
    "delattr(OnlineShop,'sector_code')\n",
    "attrs=[attr for attr in OnlineShop.__dict__.keys() if not attr.startswith('_')]\n",
    "print(attrs)"
   ]
  },
  {
   "cell_type": "code",
   "execution_count": 7,
   "metadata": {},
   "outputs": [
    {
     "name": "stdout",
     "output_type": "stream",
     "text": [
      "sector -> electronics\n",
      "sector_code -> ELE\n",
      "is_public_company -> False\n"
     ]
    }
   ],
   "source": [
    "# Exercise 32: A class named OnlineShop was defined with the class attributes set accordingly: \n",
    "# is_public_company to the value False\n",
    "# using the del statement remove the class attribute named sector_code. In response print the rest of the user_defined\n",
    "#OnlineShop class attribute names as list as shown below.\n",
    "# Display all user_defined OnlineShop class attribute names with their values as shown below.\n",
    "class OnlineShop:\n",
    "    sector='electronics'\n",
    "    sector_code= 'ELE'\n",
    "    is_public_company = False\n",
    "\n",
    "for attr,value in OnlineShop.__dict__.items():\n",
    "    if not attr.startswith('_'):\n",
    "        print(f'{attr} -> {value}')"
   ]
  },
  {
   "cell_type": "code",
   "execution_count": 9,
   "metadata": {},
   "outputs": [
    {
     "name": "stdout",
     "output_type": "stream",
     "text": [
      "sector -> electronics\n",
      "sector_code -> ELE\n",
      "is_public_company -> False\n"
     ]
    }
   ],
   "source": [
    "#Exercise 33: A class named OnlineShop was defined with the class attributes set accordingly:\n",
    "# is_public_company to the value False\n",
    "# using the del statement remove the class attribute named sector_code. In response print the rest of the user_defined\n",
    "#OnlineShop class attribute names as list as shown below.\n",
    "class OnlineShop:\n",
    "    sector='electronics'\n",
    "    sector_code='ELE'\n",
    "    is_public_company =False\n",
    "    \n",
    "def describe_attrs(OnlineShop):\n",
    "    for attr, value in OnlineShop.__dict__.items():\n",
    "        if not attr.startswith('_'):\n",
    "            print(f'{attr} -> {value}')\n",
    "\n",
    "describe_attrs(OnlineShop)"
   ]
  },
  {
   "cell_type": "code",
   "execution_count": 10,
   "metadata": {},
   "outputs": [
    {
     "data": {
      "text/plain": [
       "'electronics'"
      ]
     },
     "execution_count": 10,
     "metadata": {},
     "output_type": "execute_result"
    }
   ],
   "source": [
    "# Exercise 34: A class named OnlineShop was defined with the class attributes set accordingly:\n",
    "# sector to the value 'electronics'\n",
    "# sector_code to the value 'ELE'\n",
    "# is_public_company to the value False\n",
    "#Implement a function (class callable attribute) named get_sector() that returns the value of the sector attribute\n",
    "# of the OnlineShop class. You only need to implement this function\n",
    "class OnlineShop:\n",
    "    sector='electronics'\n",
    "    sector_code='ELE'\n",
    "    is_public_company=False\n",
    "\n",
    "def get_sector(OnlineShop):\n",
    "    return OnlineShop.sector\n",
    "\n",
    "get_sector(OnlineShop)"
   ]
  },
  {
   "cell_type": "code",
   "execution_count": 11,
   "metadata": {},
   "outputs": [
    {
     "name": "stdout",
     "output_type": "stream",
     "text": [
      "number_of_floors: 3\n",
      "area: 100\n"
     ]
    }
   ],
   "source": [
    "#Exercise 35: Implement the HouseProject class with class attributes respectively:\n",
    "#number_of_floors=3\n",
    "#area = 100\n",
    "#Then is the HouseProject class implement a function (class callable attribute) called describe_project(), which\n",
    "#displays basic information about the project:\n",
    "class HouseProject:\n",
    "    number_of_floors=3\n",
    "    area=100\n",
    "\n",
    "def describe_project(HouseProject):\n",
    "    for attr, value in HouseProject.__dict__.items():\n",
    "        if not attr.startswith('_'):\n",
    "            print(f'{attr}: {value}')\n",
    "\n",
    "describe_project(HouseProject)"
   ]
  },
  {
   "cell_type": "code",
   "execution_count": 14,
   "metadata": {},
   "outputs": [
    {
     "name": "stdout",
     "output_type": "stream",
     "text": [
      "{}\n",
      "{'author': 'Dan Brown', 'title': 'Inferno'}\n"
     ]
    }
   ],
   "source": [
    "#Exercise 36: The Book class is defined. Create an isntance of the Book class named book. Display the value of the\n",
    "#__dict__ attribute for the book instance. Then assign two attributes to the book instance:\n",
    "#Then assign two attributes to the book instance:\n",
    "#author to the value 'Dan Brown'\n",
    "#title to the value 'Inferno'\n",
    "#In response, display the __dict__ attribute for the book instance again. \n",
    "class Book:\n",
    "    language='ENG'\n",
    "    is_ebook= True\n",
    "\n",
    "book=Book()\n",
    "print(book.__dict__)\n",
    "book.author= 'Dan Brown'\n",
    "book.title= 'Inferno'\n",
    "print(book.__dict__)"
   ]
  },
  {
   "cell_type": "code",
   "execution_count": 15,
   "metadata": {},
   "outputs": [
    {
     "name": "stdout",
     "output_type": "stream",
     "text": [
      "{'author': 'Dan Brown', 'title': 'Inferno'}\n",
      "{'author': 'Dan Brown', 'title': 'The Da Vinci Code', 'year_of_publishment': 2003}\n"
     ]
    }
   ],
   "source": [
    "# Exercise 37: The Book class is defined. Create two instances of the Book class named book_1 and book_2. Then assign\n",
    "# attributes to these objects (suing dot notation) as follows. To object book_1 author='Dan Brown', title='Inferno',\n",
    "# to object book_2: author='Dan Brown', title='The Da Vinci Code', year_of_publishment=2003\n",
    "class Book:\n",
    "    language='ENG'\n",
    "    is_ebook= True\n",
    "\n",
    "book_1=Book()\n",
    "book_1.author='Dan Brown'\n",
    "book_1.title='Inferno'\n",
    "book_2=Book()\n",
    "book_2.author='Dan Brown'\n",
    "book_2.title='The Da Vinci Code'\n",
    "book_2.year_of_publishment=2003\n",
    "\n",
    "print(book_1.__dict__)\n",
    "print(book_2.__dict__)"
   ]
  },
  {
   "cell_type": "code",
   "execution_count": 38,
   "metadata": {},
   "outputs": [
    {
     "name": "stdout",
     "output_type": "stream",
     "text": [
      "author -> Dan Brown\n",
      "title -> Inferno\n",
      "------------------------------\n",
      "author -> Dan Brown\n",
      "title -> The Da Vinci Code\n",
      "year_of_publishment -> 2003\n",
      "------------------------------\n"
     ]
    }
   ],
   "source": [
    "#Exercise 38: The Book class is defined. Two instances of the Book class named book_1 and book_2 was created. Then\n",
    "#the instance attributes were assigned the objects from the previous exercise.\n",
    "# Then a books list was created. Create a loop to list all the attributes of the book_1 and book_2 instances with their\n",
    "#values as shown below (seperate each instance with a line of 30 '-')\n",
    "books=[book_1, book_2]\n",
    "\n",
    "for book in books:\n",
    "    for key,value in book.__dict__.items():\n",
    "        print(f'{key} -> {value}')\n",
    "    print('-' * 30)"
   ]
  },
  {
   "cell_type": "code",
   "execution_count": 46,
   "metadata": {},
   "outputs": [
    {
     "name": "stdout",
     "output_type": "stream",
     "text": [
      "{'author': 'Dan Brown', 'title': 'Inferno'}\n",
      "{'author': 'Dan Brown', 'title': 'The Da Vinci Code', 'year of publishment': 2003}\n"
     ]
    }
   ],
   "source": [
    "# Exercise 39: A Book class is defined. A list books_data is also given. Based on this data, create two instances of \n",
    "# the Book class, where the instance attributes will be the keys from the given dictionaries(books_data list) with \n",
    "#their corresponding values. In response, print the __dict__ attributes of the objects to the console.\n",
    "books_data=[{'author':'Dan Brown', 'title':'Inferno'},\n",
    "{'author':'Dan Brown','title':'The Da Vinci Code','year of publishment':2003}]\n",
    "\n",
    "class Book:\n",
    "    language = 'ENG'\n",
    "    is_ebook= True\n",
    "\n",
    "books=[]\n",
    "for book_data in books_data:\n",
    "    book=Book()\n",
    "    for attr, value in book_data.items():\n",
    "        setattr(book,attr,value)\n",
    "    books.append(book)\n",
    "\n",
    "for book in books:\n",
    "    print(book.__dict__)"
   ]
  },
  {
   "cell_type": "code",
   "execution_count": 21,
   "metadata": {},
   "outputs": [
    {
     "data": {
      "text/plain": [
       "'Inferno'"
      ]
     },
     "execution_count": 21,
     "metadata": {},
     "output_type": "execute_result"
    }
   ],
   "source": [
    "#Exercise 40: The Book class is defined. Implement a method called set_title() that allows you to set an instance \n",
    "#attribute called title.(without validation). Then create an instance of the Book class named book and set the title\n",
    "#attribute to 'Inferno' using the set_title method. In response print the value of the title attribute of the book \n",
    "#instance\n",
    "class Book:\n",
    "    language='ENG'\n",
    "    is_ebook= True\n",
    "    \n",
    "    def set_title(self,arg):\n",
    "        self.title=arg\n",
    "\n",
    "book=Book()\n",
    "book.set_title('Inferno')\n",
    "book.title"
   ]
  },
  {
   "cell_type": "code",
   "execution_count": 39,
   "metadata": {},
   "outputs": [
    {
     "ename": "TypeError",
     "evalue": "The value of thte title attribute must be of str type",
     "output_type": "error",
     "traceback": [
      "\u001b[1;31m---------------------------------------------------------------------------\u001b[0m",
      "\u001b[1;31mTypeError\u001b[0m                                 Traceback (most recent call last)",
      "\u001b[1;32m<ipython-input-39-99a227b0fe2a>\u001b[0m in \u001b[0;36m<module>\u001b[1;34m\u001b[0m\n\u001b[0;32m     14\u001b[0m             \u001b[1;32mraise\u001b[0m \u001b[0mTypeError\u001b[0m\u001b[1;33m(\u001b[0m\u001b[1;34m'The value of thte title attribute must be of str type'\u001b[0m\u001b[1;33m)\u001b[0m\u001b[1;33m\u001b[0m\u001b[1;33m\u001b[0m\u001b[0m\n\u001b[0;32m     15\u001b[0m \u001b[0mbook\u001b[0m\u001b[1;33m=\u001b[0m\u001b[0mBook\u001b[0m\u001b[1;33m(\u001b[0m\u001b[1;33m)\u001b[0m\u001b[1;33m\u001b[0m\u001b[1;33m\u001b[0m\u001b[0m\n\u001b[1;32m---> 16\u001b[1;33m \u001b[0mbook\u001b[0m\u001b[1;33m.\u001b[0m\u001b[0mset_title\u001b[0m\u001b[1;33m(\u001b[0m\u001b[1;36m10\u001b[0m\u001b[1;33m)\u001b[0m\u001b[1;33m\u001b[0m\u001b[1;33m\u001b[0m\u001b[0m\n\u001b[0m",
      "\u001b[1;32m<ipython-input-39-99a227b0fe2a>\u001b[0m in \u001b[0;36mset_title\u001b[1;34m(self, arg)\u001b[0m\n\u001b[0;32m     12\u001b[0m             \u001b[0mself\u001b[0m\u001b[1;33m.\u001b[0m\u001b[0mtitle\u001b[0m\u001b[1;33m=\u001b[0m\u001b[0marg\u001b[0m\u001b[1;33m\u001b[0m\u001b[1;33m\u001b[0m\u001b[0m\n\u001b[0;32m     13\u001b[0m         \u001b[1;32melse\u001b[0m\u001b[1;33m:\u001b[0m\u001b[1;33m\u001b[0m\u001b[1;33m\u001b[0m\u001b[0m\n\u001b[1;32m---> 14\u001b[1;33m             \u001b[1;32mraise\u001b[0m \u001b[0mTypeError\u001b[0m\u001b[1;33m(\u001b[0m\u001b[1;34m'The value of thte title attribute must be of str type'\u001b[0m\u001b[1;33m)\u001b[0m\u001b[1;33m\u001b[0m\u001b[1;33m\u001b[0m\u001b[0m\n\u001b[0m\u001b[0;32m     15\u001b[0m \u001b[0mbook\u001b[0m\u001b[1;33m=\u001b[0m\u001b[0mBook\u001b[0m\u001b[1;33m(\u001b[0m\u001b[1;33m)\u001b[0m\u001b[1;33m\u001b[0m\u001b[1;33m\u001b[0m\u001b[0m\n\u001b[0;32m     16\u001b[0m \u001b[0mbook\u001b[0m\u001b[1;33m.\u001b[0m\u001b[0mset_title\u001b[0m\u001b[1;33m(\u001b[0m\u001b[1;36m10\u001b[0m\u001b[1;33m)\u001b[0m\u001b[1;33m\u001b[0m\u001b[1;33m\u001b[0m\u001b[0m\n",
      "\u001b[1;31mTypeError\u001b[0m: The value of thte title attribute must be of str type"
     ]
    }
   ],
   "source": [
    "# Exercise 41: The Book class is defined. Implement a method named set_title() that sets an instance attribute named \n",
    "#title. Before setting the value, check if its an object of str type, if not raise a TypeError with the following \n",
    "# message: ' The value of the title attrbiute must be of str type.'\n",
    "#Then create an instance of the Book class named book and set the title attribute to 'Inferno' using set_title method.\n",
    "# In response, print the value of the title attribute of the book instance. \n",
    "class Book:\n",
    "    language='ENG'\n",
    "    is_ebook=True\n",
    "    \n",
    "    def set_title(self,arg):\n",
    "        if type(arg)==str:\n",
    "            self.title=arg\n",
    "        else:\n",
    "            raise TypeError('The value of thte title attribute must be of str type')\n",
    "book=Book()\n",
    "book.set_title(10)"
   ]
  },
  {
   "cell_type": "code",
   "execution_count": 69,
   "metadata": {},
   "outputs": [
    {
     "name": "stdout",
     "output_type": "stream",
     "text": [
      "The value of the title attribute must be of str type\n"
     ]
    }
   ],
   "source": [
    "#Exercise 42: The book class is defined. A method called set_title() was implemented that allows you to set an instance\n",
    "#attribute called title. Create an instance of the Book class named book. Then, using the try ... except ... clause,\n",
    "# try using the set_title method to set the value of the title attribute to False. In case of a TypeError, print the \n",
    "#error message to the console. \n",
    "class Book:\n",
    "    language='ENG'\n",
    "    is_ebook= True\n",
    "    \n",
    "    def set_title(self,arg):\n",
    "        if type(arg)==str:\n",
    "            self.title=arg\n",
    "        else:\n",
    "            raise TypeError('The value of the title attribute must be of str type')\n",
    "            \n",
    "book=Book()\n",
    "try:\n",
    "    book.set_title(False)\n",
    "except TypeError as error:\n",
    "    print(error)"
   ]
  },
  {
   "cell_type": "code",
   "execution_count": 70,
   "metadata": {},
   "outputs": [
    {
     "data": {
      "text/plain": [
       "dict_values(['acer', 'Predator', 5490])"
      ]
     },
     "execution_count": 70,
     "metadata": {},
     "output_type": "execute_result"
    }
   ],
   "source": [
    "#Exercise 43: Implement a class called Laptop that sets the following instance attributes when creating an instance:\n",
    "# brand, model, price. Then create an instance named laptop with the following attribute values: brand='acer',\n",
    "# model='Predator', price=5490, Use the special method __init__(). In response, print the value of the __dict__ attribute\n",
    "# of the laptop instance. \n",
    "class Laptop:\n",
    "    def __init__(self,brand, model, price):\n",
    "        self.brand=brand\n",
    "        self.model=model\n",
    "        self.price=price\n",
    "laptop=Laptop('acer','Predator',5490)\n",
    "laptop.__dict__.values()"
   ]
  },
  {
   "cell_type": "code",
   "execution_count": 71,
   "metadata": {},
   "outputs": [
    {
     "name": "stdout",
     "output_type": "stream",
     "text": [
      "brand\n",
      "model\n",
      "price\n"
     ]
    }
   ],
   "source": [
    "#Exercise 44: A class called Laptop was implemented. Implement a method in the Laptop class called \n",
    "#display_instance_attrs() that displays the names of all the attributes of the Laptop instance. Then create an instance\n",
    "# named laptop with the given attribute values: brand='Dell', model= 'Inspiron', price=3699. In response call\n",
    "#display_instance_attrs() method on the laptop instance. \n",
    "class Laptop:\n",
    "    def __init__(self,brand, model, price):\n",
    "        self.brand=brand\n",
    "        self.model=model\n",
    "        self.price=price\n",
    "    \n",
    "    def display_instance_attrs(self):\n",
    "        for key in self.__dict__.keys():\n",
    "            print(key)\n",
    "laptop=Laptop('Dell','Inspiron',3699)\n",
    "laptop.display_instance_attrs()"
   ]
  },
  {
   "cell_type": "code",
   "execution_count": 73,
   "metadata": {},
   "outputs": [
    {
     "name": "stdout",
     "output_type": "stream",
     "text": [
      "brand -> Dell\n",
      "model -> Inspiron\n",
      "price -> 3699\n"
     ]
    }
   ],
   "source": [
    "# Exercise 45: A class named Laptop was implemented. Implement a method in the Laptop class called display_attrs_with\n",
    "#_values(), which displays the names of all attributes of the Laptop class with their values as shown below\n",
    "# (attribute name -> attribute value). Then create an instance named laptop with the following values:\n",
    "#brand='Dell', model='Inspiron', price=3699. In response call display_attrs_with_values() method on the laptop instance\n",
    "class Laptop:\n",
    "    def __init__(self,brand, model, price):\n",
    "        self.brand=brand\n",
    "        self.model=model\n",
    "        self.price=price\n",
    "    \n",
    "    def display_attrs_with_values(self):\n",
    "        for key,value in self.__dict__.items():\n",
    "            print(f'{key} -> {value}')\n",
    "laptop=Laptop('Dell','Inspiron',3699)\n",
    "laptop.display_attrs_with_values()"
   ]
  },
  {
   "cell_type": "code",
   "execution_count": 78,
   "metadata": {},
   "outputs": [
    {
     "name": "stdout",
     "output_type": "stream",
     "text": [
      "(1, 2)\n",
      "(4, 5, 2)\n"
     ]
    }
   ],
   "source": [
    "# Exercise 46: Implement a class named Vector that takes a class named Vector, that takes any number of n-dimensional\n",
    "#vector coordinates as arguments when creating an instance (without any validation) and assign to instance attribute\n",
    "# named components. Then create two instances with following coordinates. (1,2) and (4,5,2) and assign to variables\n",
    "#v1 and v2 respectively. In response, print the value of the components attribute for v1 and v2 instance\n",
    "class Vector:\n",
    "    def __init__(self,*kwargs):\n",
    "        self.components=tuple([kwarg for kwarg in kwargs])\n",
    "v1=Vector(1,2)\n",
    "v2=Vector(4,5,2)\n",
    "print(v1.components)\n",
    "print(v2.components)"
   ]
  },
  {
   "cell_type": "code",
   "execution_count": 81,
   "metadata": {},
   "outputs": [
    {
     "name": "stdout",
     "output_type": "stream",
     "text": [
      "{'apple': 3.5}\n",
      "{'apple': 3.5, 'milk': 2.5, 'juice': 4.9, 'water': 2.5}\n"
     ]
    }
   ],
   "source": [
    "#Exercise 47: Implement a class named Bucket that takes any number of named arguments(keyword arguments -use **kwargs)\n",
    "#when creating an instance. The name of the argument is the name of the instance attribute, and the value for the\n",
    "#argument is the value for the instance attribute.\n",
    "# Then create an instance named bucket by adding the following attributes with their values:\n",
    "#apple=3.5, milk=2.5, juice=4.9, water=2.5, in response print the value of thr __dict__ attribute for the bucket \n",
    "#instance\n",
    "class Bucket:\n",
    "    def __init__(self,**kwargs):\n",
    "        self.__dict__.update(kwargs)\n",
    "bucket=Bucket(apple=3.5)\n",
    "print(bucket.__dict__)\n",
    "bucket=Bucket(apple=3.5,milk=2.5,juice=4.9,water=2.5)\n",
    "print(bucket.__dict__)"
   ]
  },
  {
   "cell_type": "code",
   "execution_count": 84,
   "metadata": {},
   "outputs": [
    {
     "name": "stdout",
     "output_type": "stream",
     "text": [
      "{'brand': 'Opel', 'model': 'Insignia', 'price': 115000, 'type_of_car': 'sedan'}\n"
     ]
    }
   ],
   "source": [
    "#Exercise 48: Implement a class called Car that sets the following instance attributes when creating an instance:\n",
    "# brand, model, price, type_of_car by default 'sedan'. Then create an instance named car with the given values:\n",
    "# brand='Opel', model='Insignia', price=115000. In response print the value of the __dict__ attribute of the car\n",
    "# instance\n",
    "class Car:\n",
    "    def __init__(self,brand,model,price,type_of_car='sedan'):\n",
    "        self.brand=brand\n",
    "        self.model=model\n",
    "        self.price=price\n",
    "        self.type_of_car=type_of_car\n",
    "car=Car(brand='Opel',model='Insignia',price=115000)\n",
    "print(car.__dict__)"
   ]
  },
  {
   "cell_type": "code",
   "execution_count": 85,
   "metadata": {},
   "outputs": [
    {
     "name": "stdout",
     "output_type": "stream",
     "text": [
      "{'brand': 'BMW', 'model': 'X3', 'price': 200000, 'type_of_car': 'SUV'}\n"
     ]
    }
   ],
   "source": [
    "# Exercise 49: A class named Car was implemented that sets the following instance attributes when creating an instance\n",
    "# brand, model, price, type_of_car by deafult 'sedan'. Then create an instance named car with the given values:\n",
    "# brand='BMW',model='X3',price=200000,type_of_car='SUV'. In response print the value of the __dict__ attribute of the\n",
    "# car instance\n",
    "car=Car(brand='BMW',model='X3',price=200000,type_of_car='SUV')\n",
    "print(car.__dict__)"
   ]
  },
  {
   "cell_type": "code",
   "execution_count": 86,
   "metadata": {},
   "outputs": [
    {
     "name": "stdout",
     "output_type": "stream",
     "text": [
      "{'brand': 'Acer', 'model': 'Predator', 'price': 5490}\n"
     ]
    }
   ],
   "source": [
    "# Exercise 50: Implement a class named Laptop that sets the following instance attributes when creating an instance:\n",
    "# brand, model, price. When creating an instance, add validation for the price attribute. The value of the price\n",
    "# attribute must be an int or float type greater than zero. If not raise the TypeError with the following message.\n",
    "# The price attribute must be a positive int or float. Then create an instance callled Laptop with the given attributes\n",
    "# brand='Acer', model='Predator', price=5490. In response print the value of the __dict__ attribute of the laptop\n",
    "#instance. \n",
    "class Laptop:\n",
    "    def __init__(self,brand,model,price):\n",
    "        self.brand=brand\n",
    "        self.model=model\n",
    "        if isinstance(price,(int,float)) and price>0:\n",
    "            self.price=price\n",
    "        else:\n",
    "            raise TypeError('The price attribute must be a positve int or float')\n",
    "laptop=Laptop('Acer','Predator',5490)\n",
    "print(laptop.__dict__)"
   ]
  },
  {
   "cell_type": "code",
   "execution_count": 87,
   "metadata": {},
   "outputs": [
    {
     "ename": "TypeError",
     "evalue": "The price attribute must be a positive int or float",
     "output_type": "error",
     "traceback": [
      "\u001b[1;31m---------------------------------------------------------------------------\u001b[0m",
      "\u001b[1;31mTypeError\u001b[0m                                 Traceback (most recent call last)",
      "\u001b[1;32m<ipython-input-87-ff34495292d7>\u001b[0m in \u001b[0;36m<module>\u001b[1;34m\u001b[0m\n\u001b[0;32m     11\u001b[0m         \u001b[1;32melse\u001b[0m\u001b[1;33m:\u001b[0m\u001b[1;33m\u001b[0m\u001b[1;33m\u001b[0m\u001b[0m\n\u001b[0;32m     12\u001b[0m             \u001b[0mself\u001b[0m\u001b[1;33m.\u001b[0m\u001b[0mprice\u001b[0m\u001b[1;33m=\u001b[0m\u001b[0mprice\u001b[0m\u001b[1;33m\u001b[0m\u001b[1;33m\u001b[0m\u001b[0m\n\u001b[1;32m---> 13\u001b[1;33m \u001b[0mlaptop\u001b[0m\u001b[1;33m=\u001b[0m\u001b[0mLaptop\u001b[0m\u001b[1;33m(\u001b[0m\u001b[1;34m'Acer'\u001b[0m\u001b[1;33m,\u001b[0m\u001b[1;34m'Predator'\u001b[0m\u001b[1;33m,\u001b[0m\u001b[1;34m'5490'\u001b[0m\u001b[1;33m)\u001b[0m\u001b[1;33m\u001b[0m\u001b[1;33m\u001b[0m\u001b[0m\n\u001b[0m\u001b[0;32m     14\u001b[0m \u001b[0mprint\u001b[0m\u001b[1;33m(\u001b[0m\u001b[0mlaptop\u001b[0m\u001b[1;33m.\u001b[0m\u001b[0m__dict__\u001b[0m\u001b[1;33m)\u001b[0m\u001b[1;33m\u001b[0m\u001b[1;33m\u001b[0m\u001b[0m\n",
      "\u001b[1;32m<ipython-input-87-ff34495292d7>\u001b[0m in \u001b[0;36m__init__\u001b[1;34m(self, brand, model, price)\u001b[0m\n\u001b[0;32m      8\u001b[0m         \u001b[0mself\u001b[0m\u001b[1;33m.\u001b[0m\u001b[0mmodel\u001b[0m\u001b[1;33m=\u001b[0m\u001b[0mmodel\u001b[0m\u001b[1;33m\u001b[0m\u001b[1;33m\u001b[0m\u001b[0m\n\u001b[0;32m      9\u001b[0m         \u001b[1;32mif\u001b[0m \u001b[0misinstance\u001b[0m\u001b[1;33m(\u001b[0m\u001b[0mprice\u001b[0m\u001b[1;33m,\u001b[0m\u001b[0mstr\u001b[0m\u001b[1;33m)\u001b[0m \u001b[1;32mor\u001b[0m \u001b[0mprice\u001b[0m\u001b[1;33m<=\u001b[0m\u001b[1;36m0\u001b[0m\u001b[1;33m:\u001b[0m\u001b[1;33m\u001b[0m\u001b[1;33m\u001b[0m\u001b[0m\n\u001b[1;32m---> 10\u001b[1;33m             \u001b[1;32mraise\u001b[0m \u001b[0mTypeError\u001b[0m\u001b[1;33m(\u001b[0m\u001b[1;34m'The price attribute must be a positive int or float'\u001b[0m\u001b[1;33m)\u001b[0m\u001b[1;33m\u001b[0m\u001b[1;33m\u001b[0m\u001b[0m\n\u001b[0m\u001b[0;32m     11\u001b[0m         \u001b[1;32melse\u001b[0m\u001b[1;33m:\u001b[0m\u001b[1;33m\u001b[0m\u001b[1;33m\u001b[0m\u001b[0m\n\u001b[0;32m     12\u001b[0m             \u001b[0mself\u001b[0m\u001b[1;33m.\u001b[0m\u001b[0mprice\u001b[0m\u001b[1;33m=\u001b[0m\u001b[0mprice\u001b[0m\u001b[1;33m\u001b[0m\u001b[1;33m\u001b[0m\u001b[0m\n",
      "\u001b[1;31mTypeError\u001b[0m: The price attribute must be a positive int or float"
     ]
    }
   ],
   "source": [
    "# Exercise 51: A class called Laptop was implemented. Try to create an instance named laptop with the given attribute \n",
    "#values: brand='Acer', model='Predator', price='5900'\n",
    "# Note that in this the value of the price attribute is passed as a str type. In case of error, print the error \n",
    "# message to the console (use the try ... except ... clause).\n",
    "class Laptop:\n",
    "    def __init__(self,brand,model,price):\n",
    "        self.brand=brand\n",
    "        self.model=model\n",
    "        if isinstance(price,str) or price<=0:\n",
    "            raise TypeError('The price attribute must be a positive int or float')\n",
    "        else:\n",
    "            self.price=price\n",
    "laptop=Laptop('Acer','Predator','5490')\n",
    "print(laptop.__dict__)"
   ]
  },
  {
   "cell_type": "code",
   "execution_count": 89,
   "metadata": {},
   "outputs": [
    {
     "name": "stdout",
     "output_type": "stream",
     "text": [
      "{'brand': 'Acer', '_model': 'Predator', '_Laptop__price': 5490}\n"
     ]
    }
   ],
   "source": [
    "#Exercise 52: Implement a class called Laptop that sets the following instance attributes when creating an instance:\n",
    "# brand as a bare instance attribute, model as a protected attribute, price as a private attribute. Then create an\n",
    "# instance named laptop with the following arguments: 'Acer','Predator',5490. In response, print the value of the\n",
    "# __dict__ attribute of the laptop instance. \n",
    "class Laptop:\n",
    "    def __init__(self,brand,model,price):\n",
    "        self.brand=brand\n",
    "        self._model=model\n",
    "        self.__price=price\n",
    "laptop=Laptop('Acer','Predator',5490)\n",
    "print(laptop.__dict__)"
   ]
  },
  {
   "cell_type": "code",
   "execution_count": 90,
   "metadata": {},
   "outputs": [
    {
     "name": "stdout",
     "output_type": "stream",
     "text": [
      "brand -> Acer\n",
      "_model -> Predator\n",
      "_Laptop__price -> 5490\n"
     ]
    }
   ],
   "source": [
    "#Exercise 53: A class called Laptop was implemented. Then an instanc eof the Laptop class named laptop was created\n",
    "# with the following arguments: 'Acer', 'Predator', 5490. In response, print the value for each instance attribute\n",
    "# (on a seperate line) of the laptop instance as shown below.\n",
    "class Laptop:\n",
    "    def __init__(self,brand,model,price):\n",
    "        self.brand=brand\n",
    "        self._model=model\n",
    "        self.__price=price\n",
    "\n",
    "laptop=Laptop('Acer','Predator',5490)\n",
    "for key,value in laptop.__dict__.items():\n",
    "            print(f'{key} -> {value}')"
   ]
  },
  {
   "cell_type": "code",
   "execution_count": 98,
   "metadata": {},
   "outputs": [
    {
     "name": "stdout",
     "output_type": "stream",
     "text": [
      "_Laptop__price\n",
      "_Laptop__margin\n"
     ]
    }
   ],
   "source": [
    "#Exercise 54: An implementation of the Laptop class is given. Implement a method in the Laptop class called \n",
    "# display_private_attrs() that displays the names of all private attributes of the instance. Then create an instance \n",
    "# with the given arguments: 'Acer','Predator','AC-100',5490, 0.2 and assign it to the variable laptop. In response,\n",
    "# call display_private_attrs() on the laptop instance.\n",
    "class Laptop:\n",
    "    def __init__(self,brand,model,code,price,margin):\n",
    "        self.brand=brand\n",
    "        self._model=model\n",
    "        self._code=code\n",
    "        self.__price=price\n",
    "        self.__margin=margin\n",
    "    \n",
    "    def display_private_attrs(self):\n",
    "        for attr in self.__dict__:\n",
    "            if attr.startswith(f'_{self.__class__.__name__}__'):\n",
    "                print(attr)\n",
    "                \n",
    "laptop=Laptop('Acer','Predator','AC-100',5490,0.2)\n",
    "laptop.display_private_attrs()"
   ]
  },
  {
   "cell_type": "code",
   "execution_count": 108,
   "metadata": {},
   "outputs": [
    {
     "name": "stdout",
     "output_type": "stream",
     "text": [
      "_model\n",
      "_code\n"
     ]
    }
   ],
   "source": [
    "#Exercise 55: An implementaiton of the Laptop class is given. Implement a method called display_protected_attrs() in \n",
    "# the Laptop class that displays the names of the protected attribute of the instance. Then create an instance with\n",
    "# the given arguments: 'Acer', 'Predator', 'AC-100', 5490, 0.2 and assign it to the vairable laptop. In response,\n",
    "# call display_protected_attrs() on the laptop instance.\n",
    "class Laptop:\n",
    "    def __init__(self,brand,model,code,price,margin):\n",
    "        self.brand=brand\n",
    "        self._model=model\n",
    "        self._code=code\n",
    "        self.__price=price\n",
    "        self.__margin=margin\n",
    "    \n",
    "    def display_protected_attrs(self):\n",
    "        for attr in self.__dict__:\n",
    "            if attr.startswith('_') and \\\n",
    "                not attr.startswith(f'_{self.__class__.__name__}'):\n",
    "                    print(attr)\n",
    "laptop=Laptop('Acer','Predator','AC-100',5490,0.2)\n",
    "laptop.display_protected_attrs()"
   ]
  },
  {
   "cell_type": "code",
   "execution_count": 111,
   "metadata": {},
   "outputs": [
    {
     "name": "stdout",
     "output_type": "stream",
     "text": [
      "3499\n",
      "3999\n"
     ]
    }
   ],
   "source": [
    "#Exercise 56: Implement a class called Laptop whihc in the __init__() method sets the valur of the price protected\n",
    "# attribute that stores thr price of the laptop (without any validation). Then implement a method to read that \n",
    "# attribute named get_price() and a method to modify that attribute named set_price without validation as well. \n",
    "# Then create an instance of the Laptop class with a price of 3499 and follow these steps:\n",
    "# using the get_price() method print the value of the price protected attribute to the console\n",
    "# using the set_price() method, set the value of the price protected attribute to 3999\n",
    "# using the get_price() method print the value of the protected attribute to the console. \n",
    "class Laptop:\n",
    "    def __init__(self,price):\n",
    "        self.price=price\n",
    "    def set_price(self):\n",
    "        self.price=3999\n",
    "laptop=Laptop(3499)\n",
    "print(laptop.price)\n",
    "laptop.set_price()\n",
    "print(laptop.price)"
   ]
  },
  {
   "cell_type": "code",
   "execution_count": 119,
   "metadata": {},
   "outputs": [
    {
     "name": "stdout",
     "output_type": "stream",
     "text": [
      "The price attribute must be a positive or a float value\n"
     ]
    }
   ],
   "source": [
    "# Exercise 57: A class called Laptop was implemented. Implement a method named set_price() to modify price attribute \n",
    "#that validates the value. validation checks:\n",
    "# whether the value is an int or float type, if not raise a TypeError with the following message: The price attribute\n",
    "# must be a positive or a float value.'\n",
    "# Then create an instance of the Laptop class with a price of 3499 and try to set '-3000' to the price using \n",
    "# set_price() method. If an error is raised, print the error message to the console. Use a try...except clause in \n",
    "# your solution.\n",
    "class Laptop:\n",
    "    def __init__(self,price):\n",
    "        self._price=price\n",
    "    def get_price(self):\n",
    "        return self.price\n",
    "    def set_price(self,price):\n",
    "        if isinstance(price,(int,float)) and price>=0:\n",
    "            self.price=price\n",
    "        else:\n",
    "            raise TypeError('The price attribute must be a positive or a float value')\n",
    "laptop=Laptop(3000)\n",
    "try:\n",
    "    laptop.set_price('-3000')\n",
    "except TypeError as error:\n",
    "    print(error)"
   ]
  },
  {
   "cell_type": "code",
   "execution_count": 120,
   "metadata": {},
   "outputs": [
    {
     "data": {
      "text/plain": [
       "' Same as Exercise 57'"
      ]
     },
     "execution_count": 120,
     "metadata": {},
     "output_type": "execute_result"
    }
   ],
   "source": [
    "# Exercise 58: A class called Laptop was implemented. The __init__() method sets the value of the price protected\n",
    "# attribute that stores the price of the laptop (without any validation).\n",
    "# Create an instance of the Laptop class with a price of 3499 and try to set the price to -3000 using the set_price()\n",
    "# method. If an error is raised, print the error message to the console. Use a try...except... clause in your \n",
    "# solution. \n",
    "''' Same as Exercise 57'''"
   ]
  },
  {
   "cell_type": "code",
   "execution_count": 123,
   "metadata": {},
   "outputs": [
    {
     "name": "stdout",
     "output_type": "stream",
     "text": [
      "The price attribute must be a positive or a float value\n"
     ]
    }
   ],
   "source": [
    "# Exercise 59: A class called Laptop was implemented. Add validation of the price attribute also at the stage of \n",
    "# creating the instance (in __init__()) method). Then try to create an instance of the Laptop class with a price of \n",
    "# -3499. If an error is raised, print the error message to the console. Use a try ... except ... clause in your\n",
    "# solution \n",
    "class Laptop:\n",
    "    def __init__(self,price):\n",
    "        if isinstance(price,(int,float)) and price>=0:\n",
    "            self.price=price\n",
    "        else:\n",
    "            raise TypeError('The price attribute must be a positive or a float value')\n",
    "    def get_price(self):\n",
    "        return self.price\n",
    "    def set_price(self,price):\n",
    "        if isinstance(price,(int,float)) and price>=0:\n",
    "            self.price=price\n",
    "        else:\n",
    "            raise TypeError('The price attribute must be a positive or a float value')\n",
    "try:\n",
    "    Laptop('-3499')\n",
    "except TypeError as error:\n",
    "    print(error)"
   ]
  },
  {
   "cell_type": "code",
   "execution_count": 128,
   "metadata": {},
   "outputs": [
    {
     "name": "stdout",
     "output_type": "stream",
     "text": [
      "John\n"
     ]
    }
   ],
   "source": [
    "# Exercise 60: Implement a class named Person that has one protected instance attribute named first_name. Next,\n",
    "# implement a method get_first_name() which reads the value of the first_name protected attribute. Then using the \n",
    "# get_first_name() method and the property class (do it in the standard way) create a property named \n",
    "# first_name(read-only property). Create an instance of the Person class and the set the first_name attribute to\n",
    "# 'John'. Print the value of the first_name attribute of this instance to the console.\n",
    "class Person:\n",
    "    def __init__(self,first_name):\n",
    "        self._first_name=first_name\n",
    "    def get_first_name(self):\n",
    "        return self._first_name\n",
    "    first_name=property(get_first_name)\n",
    "person=Person('John')\n",
    "print(person.first_name)"
   ]
  },
  {
   "cell_type": "code",
   "execution_count": 1,
   "metadata": {},
   "outputs": [
    {
     "name": "stdout",
     "output_type": "stream",
     "text": [
      "John\n",
      "Dew\n"
     ]
    }
   ],
   "source": [
    "# Exercise 61: Implement a class named Person that has two instance protected attributes named first_name and last_name \n",
    "# respectively.Then implement methods named get_first_name() and get_last_name(), which reads the protected attributes\n",
    "# first_name and last_name. Then using the get_first_name() and get_last_name() methods and the property class(do it\n",
    "# in the standard way) create two properties named first_name and last_name (read-only properties). Then create an\n",
    "# instance of the Person class and set the following attributes: first_name to the value 'John' and last_name to the\n",
    "# value 'Dow'. Print the value of the first name and last name attribute of this instance to the console. \n",
    "class Person:\n",
    "    def __init__(self,first_name,last_name):\n",
    "        self._first_name=first_name\n",
    "        self._last_name=last_name\n",
    "    def get_first_name(self):\n",
    "        return self._first_name\n",
    "    def get_last_name(self):\n",
    "        return self._last_name\n",
    "    first_name=property(get_first_name)\n",
    "    last_name=property(get_last_name)\n",
    "person=Person('John','Dew')\n",
    "print(person.first_name)\n",
    "print(person.last_name)"
   ]
  },
  {
   "cell_type": "code",
   "execution_count": 3,
   "metadata": {},
   "outputs": [
    {
     "name": "stdout",
     "output_type": "stream",
     "text": [
      "Mike\n"
     ]
    }
   ],
   "source": [
    "# Exercise 62: Implement a class named Person that has one protected attributed first_name. Next implement a method\n",
    "# get_first_name() which reads the value of the first_name protected attribute. Declare a method set_first_name() that\n",
    "# allows you to modify the value of the first_name protected attribute without validation. Then using the \n",
    "# get_first_name(), set_first_name() methods and the property class(standard way) create a property called first_name\n",
    "# (property read and modify).\n",
    "# Create an instance of the Person class and set the first_name attribute to 'John'. Then using the set_first_name() \n",
    "# method set new value 'Mike'. In response, print the value of the first_name attribute to the console. \n",
    "class Person:\n",
    "    def __init__(self,first_name):\n",
    "        self._first_name=first_name\n",
    "    def get_first_name(self):\n",
    "        return self._first_name\n",
    "    def set_first_name(self,new_name):\n",
    "        self._first_name=new_name\n",
    "    first_name=property(get_first_name, set_first_name)\n",
    "person=Person('John')\n",
    "person.set_first_name('Mike')\n",
    "print(person.first_name)"
   ]
  },
  {
   "cell_type": "code",
   "execution_count": 8,
   "metadata": {},
   "outputs": [
    {
     "name": "stdout",
     "output_type": "stream",
     "text": [
      "John\n",
      "Dow\n",
      "{'_first_name': 'Tom', '_last_name': 'Smith'}\n"
     ]
    }
   ],
   "source": [
    "#Exercise 63: Implement a class named Person that has two protected attributes: first_name and last_name, respectively.\n",
    "# Next implement methods named get_first_name(),set_first_name(),get_last_name(),set_last_name(), which allows you to\n",
    "# read and modify the value of the first_ and last_name protected attributes. Then, using the methods get_first_name(),\n",
    "#set_first_name(), get_last_name(), set_last_name and the property class (do it the standard way) create properties:\n",
    "#first_name and last_name (properties to read and modify). Create an instance of the Person class with the following\n",
    "# values first_name='John', last_name='Dow'. Then print the values of these attributes to the console as shown below.\n",
    "# Using the dot notation, modify the attribute values for this instance, respectively: first_name to the value 'Tom'\n",
    "# last name to the value 'Smith'. In response print the __dict__ attribute of created instance to the console. \n",
    "class Person:\n",
    "    def __init__(self,first_name,last_name):\n",
    "        self._first_name=first_name\n",
    "        self._last_name=last_name\n",
    "    def get_first_name(self):\n",
    "        return self._first_name\n",
    "    def set_first_name(self,new_name):\n",
    "        self._first_name=new_name\n",
    "    def get_last_name(self):\n",
    "        return self._last_name\n",
    "    def set_last_name(self,new_name):\n",
    "        self._last_name=new_name\n",
    "    first_name=property(get_first_name,set_first_name)\n",
    "    last_name=property(get_first_name,set_first_name)\n",
    "\n",
    "person=Person('John','Dow')\n",
    "print(person._first_name)\n",
    "print(person._last_name)\n",
    "person.set_first_name('Tom')\n",
    "person.set_last_name('Smith')\n",
    "print(person.__dict__)"
   ]
  },
  {
   "cell_type": "code",
   "execution_count": 9,
   "metadata": {},
   "outputs": [
    {
     "data": {
      "text/plain": [
       "{}"
      ]
     },
     "execution_count": 9,
     "metadata": {},
     "output_type": "execute_result"
    }
   ],
   "source": [
    "# Exercise 64: A class named Person was implemented. Implement the del_first_name() method to remove the first_name \n",
    "# protected attribute. Then, using the methods get_first_name(), set_first_name(), del_first_name() and the property\n",
    "# class create property named first_name(properties to read modify and delete). Create an instance of the Person class\n",
    "# named person and assign the value 'Tom' to first_name. Use the del_first_name() method to delete the first_name\n",
    "# attribute of the person instance. Diplay the __dict__ attribute of the person instance to the console.\n",
    "class Person:\n",
    "    def __init__(self,first_name):\n",
    "        self._first_name=first_name\n",
    "    def get_first_name(self):\n",
    "        return self._first_name\n",
    "    def set_first_name(self,new_name):\n",
    "        self._first_name=new_name\n",
    "    def del_first_name(self):\n",
    "        del self._first_name\n",
    "    first_name=property(get_first_name,set_first_name,del_first_name)\n",
    "person=Person('Tom')\n",
    "person.del_first_name()\n",
    "person.__dict__"
   ]
  },
  {
   "cell_type": "code",
   "execution_count": 3,
   "metadata": {},
   "outputs": [
    {
     "data": {
      "text/plain": [
       "{'_name': 'Max'}"
      ]
     },
     "execution_count": 3,
     "metadata": {},
     "output_type": "execute_result"
    }
   ],
   "source": [
    "# Coding Exercise 65: Implement a class named Pet that has one protected instance attribute name. Then implement a\n",
    "# method name() which reads the value of the protected name attribute. Create a property name (read-only) using the \n",
    "# @property decorator. Create an instance of the Pet class named pet and set name attribute to 'Max'. In response,\n",
    "# print the contents of the __dict__ attribute of this instance. \n",
    "class Pet:\n",
    "    def __init__(self,name):\n",
    "        self._name=name\n",
    "    @property\n",
    "    def name(self):\n",
    "         return self._name\n",
    "pet=Pet('Max')\n",
    "pet.__dict__"
   ]
  },
  {
   "cell_type": "code",
   "execution_count": 2,
   "metadata": {},
   "outputs": [
    {
     "data": {
      "text/plain": [
       "{'_name': 'Max', '_age': 5}"
      ]
     },
     "execution_count": 2,
     "metadata": {},
     "output_type": "execute_result"
    }
   ],
   "source": [
    "# Coding Exercise 66: Implement a class named Pet that has two protected instance attributes: name and age,\n",
    "# respectively. Next implement the methods: name() and age() which reads the value of the protected attributes: name\n",
    "# and age. Using the @property decorator, create properties: name and age, respectively (read-only properties).\n",
    "# Create an instance of the Pet class named pet and set the name attribute to 'Max' and age to 5. In response print\n",
    "# the contents of the __dict__ attribute of pet instance to the console.\n",
    "class Pet:\n",
    "    def __init__(self,name,age):\n",
    "        self._name=name\n",
    "        self._age=age\n",
    "    @ property\n",
    "    def name(self):\n",
    "        return self._name\n",
    "    @ property\n",
    "    def age(self):\n",
    "        return self._age\n",
    "pet=Pet('Max',5)\n",
    "pet.__dict__"
   ]
  },
  {
   "cell_type": "code",
   "execution_count": null,
   "metadata": {},
   "outputs": [],
   "source": []
  }
 ],
 "metadata": {
  "kernelspec": {
   "display_name": "Python 3",
   "language": "python",
   "name": "python3"
  },
  "language_info": {
   "codemirror_mode": {
    "name": "ipython",
    "version": 3
   },
   "file_extension": ".py",
   "mimetype": "text/x-python",
   "name": "python",
   "nbconvert_exporter": "python",
   "pygments_lexer": "ipython3",
   "version": "3.8.5"
  }
 },
 "nbformat": 4,
 "nbformat_minor": 4
}
