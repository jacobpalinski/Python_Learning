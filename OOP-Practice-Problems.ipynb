{
 "cells": [
  {
   "cell_type": "markdown",
   "metadata": {},
   "source": [
    "## PYNATIVE"
   ]
  },
  {
   "cell_type": "code",
   "execution_count": 1,
   "metadata": {},
   "outputs": [],
   "source": [
    "#OOP 1 Create a Vehicle class with max_speed and mileage as instance attributes\n",
    "class Vehicle:\n",
    "    \n",
    "    def __init__(self,max_speed,mileage):\n",
    "        self.max_speed=max_speed\n",
    "        self.mileage=mileage"
   ]
  },
  {
   "cell_type": "code",
   "execution_count": 2,
   "metadata": {},
   "outputs": [],
   "source": [
    "#OOP 2 Create a Vehcile class without any variables or methods\n",
    "class Vehicle:\n",
    "    pass"
   ]
  },
  {
   "cell_type": "code",
   "execution_count": 6,
   "metadata": {},
   "outputs": [
    {
     "data": {
      "text/plain": [
       "'Vehicle Name: Volvo Speed: 180 Mileage: 12'"
      ]
     },
     "execution_count": 6,
     "metadata": {},
     "output_type": "execute_result"
    }
   ],
   "source": [
    "#OOP 3 Create a child class Bus that will inherit all of the variables and methods of the Vehicle class\n",
    "class Vehicle:\n",
    "    \n",
    "    def __init__(self,name,max_speed,mileage):\n",
    "        self.name=name\n",
    "        self.max_speed=max_speed\n",
    "        self.mileage=mileage\n",
    "    \n",
    "    def details(self):\n",
    "        return 'Vehicle Name: {} Speed: {} Mileage: {}'.format(self.name,self.max_speed,self.mileage)\n",
    "\n",
    "class Bus(Vehicle):\n",
    "    \n",
    "    def __init__(self,name,max_speed,mileage):\n",
    "        super().__init__(name,max_speed,mileage)\n",
    "\n",
    "x=Bus('Volvo',180,12)\n",
    "x.details()"
   ]
  },
  {
   "cell_type": "code",
   "execution_count": 14,
   "metadata": {},
   "outputs": [
    {
     "data": {
      "text/plain": [
       "'The seating capacity of a Volvo is 50 passengers'"
      ]
     },
     "execution_count": 14,
     "metadata": {},
     "output_type": "execute_result"
    }
   ],
   "source": [
    "#OOP Exercise 4: Class Inheritance\n",
    "class Vehicle:\n",
    "    def __init__(self,name,max_speed,mileage):\n",
    "        self.name=name\n",
    "        self.max_speed=max_speed\n",
    "        self.mileage=mileage\n",
    "    \n",
    "    def seating_capacity(self,capacity):\n",
    "        return f\"The seating capacity of a {self.name} is {capacity} passengers\"\n",
    "    \n",
    "class Bus(Vehicle):\n",
    "    def seating_capacity(self,capacity=50):\n",
    "        return super().seating_capacity(capacity=50)\n",
    "\n",
    "x=Bus('Volvo',180,12)\n",
    "x.seating_capacity()"
   ]
  },
  {
   "cell_type": "code",
   "execution_count": 13,
   "metadata": {},
   "outputs": [
    {
     "name": "stdout",
     "output_type": "stream",
     "text": [
      "white\n",
      "white\n"
     ]
    }
   ],
   "source": [
    "#OOP Exercise 5: Define a property that should have the same value for every class instance\n",
    "class Vehicle:\n",
    "    \n",
    "    def __init__(self,name,max_speed,mileage,color='white'):\n",
    "        self.name=name\n",
    "        self.max_speed=max_speed\n",
    "        self.mileage=mileage\n",
    "        self.color=color\n",
    "\n",
    "class Bus(Vehicle):\n",
    "    pass\n",
    "\n",
    "class Car(Vehicle):\n",
    "    pass\n",
    "\n",
    "a=Bus('Benz',100,180)\n",
    "b=Car('Ferrari',200,20)\n",
    "print(a.color)\n",
    "print(b.color)"
   ]
  },
  {
   "cell_type": "code",
   "execution_count": 15,
   "metadata": {},
   "outputs": [
    {
     "name": "stdout",
     "output_type": "stream",
     "text": [
      "Total Bus fare is: 5500.0\n"
     ]
    }
   ],
   "source": [
    "#OOP Exercise 6: Class Inheritance\n",
    "class Vehicle:\n",
    "    def __init__(self,name,mileage,capacity):\n",
    "        self.name=name\n",
    "        self.mileage=mileage\n",
    "        self.capacity=capacity\n",
    "    \n",
    "    def fare(self):\n",
    "        return self.capacity*100\n",
    "    \n",
    "class Bus(Vehicle):\n",
    "    def fare(self):\n",
    "        return self.capacity*100 +self.capacity*100*0.1\n",
    "\n",
    "School_bus=Bus(\"School Volvo\",12,50)\n",
    "print(\"Total Bus fare is:\", School_bus.fare())"
   ]
  },
  {
   "cell_type": "code",
   "execution_count": 17,
   "metadata": {},
   "outputs": [
    {
     "data": {
      "text/plain": [
       "__main__.Bus"
      ]
     },
     "execution_count": 17,
     "metadata": {},
     "output_type": "execute_result"
    }
   ],
   "source": [
    "# OOP Exercise 7: Determine which class a given Bus object belongs to\n",
    "class Vehicle:\n",
    "    def __init__(self,name,mileage,capacity):\n",
    "        self.name=name\n",
    "        self.mileage=mileage\n",
    "        self.capacity=capacity\n",
    "\n",
    "class Bus(Vehicle):\n",
    "    pass\n",
    "\n",
    "School_bus=Bus(\"School Volvo\",12,50)\n",
    "type(School_bus)"
   ]
  },
  {
   "cell_type": "code",
   "execution_count": 18,
   "metadata": {},
   "outputs": [
    {
     "name": "stdout",
     "output_type": "stream",
     "text": [
      "True\n"
     ]
    }
   ],
   "source": [
    "# OOP Exercise 8: Determine if School_bus is also an instance of the Vehicle class\n",
    "class Vehicle:\n",
    "    def __init__(self,name,mileage,capacity):\n",
    "        self.name=name\n",
    "        self.mileage=mileage\n",
    "        self.capacity=capacity\n",
    "\n",
    "class Bus(Vehicle):\n",
    "    pass\n",
    "\n",
    "School_bus=Bus(\"School Volvo\",12,50)\n",
    "print(isinstance(School_bus,Vehicle))"
   ]
  },
  {
   "cell_type": "code",
   "execution_count": 22,
   "metadata": {},
   "outputs": [
    {
     "name": "stdout",
     "output_type": "stream",
     "text": [
      "3.8.5 (default, Sep  3 2020, 21:29:08) [MSC v.1916 64 bit (AMD64)]\n"
     ]
    }
   ],
   "source": [
    "#Exercise 0: Print version to the console\n",
    "import sys\n",
    "print(sys.version)"
   ]
  },
  {
   "cell_type": "code",
   "execution_count": 26,
   "metadata": {},
   "outputs": [
    {
     "name": "stdout",
     "output_type": "stream",
     "text": [
      "MAXYEAR\n",
      "MINYEAR\n",
      "__builtins__\n",
      "__cached__\n",
      "__doc__\n",
      "__file__\n",
      "__loader__\n",
      "__name__\n",
      "__package__\n",
      "__spec__\n",
      "date\n",
      "datetime\n",
      "datetime_CAPI\n",
      "sys\n",
      "time\n",
      "timedelta\n",
      "timezone\n",
      "tzinfo\n"
     ]
    }
   ],
   "source": [
    "# Exercise 1: Import the Datetime module and display the namespace of this module\n",
    "import datetime\n",
    "for name in sorted(datetime.__dict__):\n",
    "    print(name)"
   ]
  },
  {
   "cell_type": "code",
   "execution_count": 2,
   "metadata": {},
   "outputs": [
    {
     "name": "stdout",
     "output_type": "stream",
     "text": [
      "__module__\n",
      "__init__\n",
      "__repr__\n",
      "get_id\n",
      "__dict__\n",
      "__weakref__\n",
      "__doc__\n"
     ]
    }
   ],
   "source": [
    "#Exercise 2: The Product class is given below. Display the namespace (value of the __dict__ attribute) of this class as\n",
    "#shown below\n",
    "class Product:\n",
    "    \n",
    "    def __init__(self,product_name,price):\n",
    "        self.product_id=self.get_id()\n",
    "        self.product_name=product_name\n",
    "        self.price=price\n",
    "    \n",
    "    def __repr__(self):\n",
    "        return f\"Product(product_name='{self.product_name}',price={self.price})\"\n",
    "    \n",
    "    @staticmethod\n",
    "    def get_id():\n",
    "        return str(uuid.uuid4().fields[-1])[:6]\n",
    "\n",
    "for name in (Product.__dict__):\n",
    "    print(name)"
   ]
  },
  {
   "cell_type": "code",
   "execution_count": 3,
   "metadata": {},
   "outputs": [
    {
     "name": "stdout",
     "output_type": "stream",
     "text": [
      "product_name\n",
      "product_id\n",
      "price\n"
     ]
    }
   ],
   "source": [
    "#Exercise 3: The product class is specified. An instance of this class named product was created. Display the namespace\n",
    "#of this instance shown below\n",
    "import uuid\n",
    "\n",
    "class Product:\n",
    "    def __init__(self,product_name,product_id,price):\n",
    "        self.product_name=product_name\n",
    "        self.product_id=product_id\n",
    "        self.price=price\n",
    "        \n",
    "    def __repr(self):\n",
    "        return f\"Product(product_name='{self.product_name}',price={self.price})\"\n",
    "    \n",
    "product=Product('Mobile Phone','54274',2900)\n",
    "\n",
    "for name in product.__dict__:\n",
    "    print(name)"
   ]
  },
  {
   "cell_type": "code",
   "execution_count": 8,
   "metadata": {},
   "outputs": [
    {
     "data": {
      "text/plain": [
       "('company', 'country', 'price', 'currency')"
      ]
     },
     "execution_count": 8,
     "metadata": {},
     "output_type": "execute_result"
    }
   ],
   "source": [
    "#Exercise 4: The stock info function is defined. Using the appropriate attribute of the stock_info() function, display\n",
    "#the names of all arguments to this function to the console.\n",
    "def stock_info(company, country, price,currency):\n",
    "    return f'Company: {company}\\nCountry: {country}\\Price: {currency}{price}'\n",
    "\n",
    "stock_info('Apple','USA',115,'$')\n",
    "\n",
    "stock_info.__code__.co_varnames"
   ]
  },
  {
   "cell_type": "code",
   "execution_count": 11,
   "metadata": {},
   "outputs": [
    {
     "name": "stdout",
     "output_type": "stream",
     "text": [
      "Help on built-in function sum in module builtins:\n",
      "\n",
      "sum(iterable, /, start=0)\n",
      "    Return the sum of a 'start' value (default: 0) plus an iterable of numbers\n",
      "    \n",
      "    When the iterable is empty, return the start value.\n",
      "    This function is intended specifically for use with numeric values and may\n",
      "    reject non-numeric types.\n",
      "\n",
      "None\n"
     ]
    },
    {
     "data": {
      "text/plain": [
       "6"
      ]
     },
     "execution_count": 11,
     "metadata": {},
     "output_type": "execute_result"
    }
   ],
   "source": [
    "#Exercise 5: Using the builtins import the sum() function. Then display its documentation of this function.\n",
    "#Call the function on the list below and print the result to the console.\n",
    "from builtins import sum\n",
    "print(help(sum))\n",
    "sum([1,2,3])"
   ]
  },
  {
   "cell_type": "code",
   "execution_count": 13,
   "metadata": {},
   "outputs": [
    {
     "name": "stdout",
     "output_type": "stream",
     "text": [
      "2\n"
     ]
    }
   ],
   "source": [
    "#Exercise 6: A global variable counter is given with an incorrectly implemented update_counter() function. \n",
    "# Correct the implementation of the update_counter() function so that you can modify the counter variable from this\n",
    "#function. The call the update_counter function\n",
    "counter=1\n",
    "\n",
    "def update_counter(counter):\n",
    "    counter+=1\n",
    "    print(counter)\n",
    "update_counter(counter)"
   ]
  },
  {
   "cell_type": "code",
   "execution_count": 8,
   "metadata": {},
   "outputs": [
    {
     "name": "stdout",
     "output_type": "stream",
     "text": [
      "40\n",
      "........................................\n"
     ]
    }
   ],
   "source": [
    "#Exercise 7: The following global variables are given: counter,dot_counter and incorrectly implemented update_counters()\n",
    "#function. Correct the implementation of the update_counters() function so that you can modify the values of the given\n",
    "#global variables from this function. Then call update_counters() 40 times.\n",
    "\n",
    "# In response, print the value of the counter and dot_counter global variables to the console as shown below\n",
    "\n",
    "counter=0\n",
    "dot_counter=''\n",
    "\n",
    "def update_counter():\n",
    "    global counter,dot_counter\n",
    "    counter+=1\n",
    "    dot_counter+='.'\n",
    "\n",
    "[update_counter() for _ in range(40)]\n",
    "print(counter)\n",
    "print(dot_counter)"
   ]
  },
  {
   "cell_type": "code",
   "execution_count": 10,
   "metadata": {},
   "outputs": [
    {
     "name": "stdout",
     "output_type": "stream",
     "text": [
      "110\n",
      "..........\n"
     ]
    }
   ],
   "source": [
    "# Exercise 8: A display_info() function was implemented. The function has an incorrectly implemented \n",
    "# internal update_counter() function. Correct the implmentation of this function so that you can modify non-local\n",
    "# variables: counter and dot_counter from the internal function update_counter(). In response call display_info with\n",
    "#number of arguments set to 10. \n",
    "def display_info(number_of_updates=1):\n",
    "    counter=100\n",
    "    dot_counter=''\n",
    "    \n",
    "    def update_counter():\n",
    "        nonlocal counter,dot_counter\n",
    "        counter +=1\n",
    "        dot_counter+= '.'\n",
    "    \n",
    "    [update_counter() for _ in range(number_of_updates)]\n",
    "    \n",
    "    print(counter)\n",
    "    print(dot_counter)\n",
    "\n",
    "display_info(number_of_updates=10)"
   ]
  },
  {
   "cell_type": "code",
   "execution_count": 8,
   "metadata": {},
   "outputs": [
    {
     "name": "stdout",
     "output_type": "stream",
     "text": [
      "sport#summer\n",
      "\n"
     ]
    }
   ],
   "source": [
    "#Exercise 10: Implement a function called stick() that takes any number of bare arguments and return an object of type \n",
    "#str being a concatenation of all arguments of type str passed to the function with '#' sign.\n",
    "def stick(*args):\n",
    "    args=[arg for arg in args if isinstance(arg,str)]\n",
    "    result='#'.join(args)\n",
    "    return result\n",
    "\n",
    "print(stick('sport','summer'))\n",
    "print(stick(3,5,7))"
   ]
  },
  {
   "cell_type": "code",
   "execution_count": null,
   "metadata": {},
   "outputs": [],
   "source": [
    "#Exercise 11: Implement a function called display_info() which prints the name of the comapany (as shown below) and if\n",
    "#the user also passes an argument named price, it prints the price below\n",
    "def display_info(company,**kwargs):\n",
    "    print(company)\n",
    "    price=[kwarg[0] for kwarg in ]"
   ]
  }
 ],
 "metadata": {
  "kernelspec": {
   "display_name": "Python 3",
   "language": "python",
   "name": "python3"
  },
  "language_info": {
   "codemirror_mode": {
    "name": "ipython",
    "version": 3
   },
   "file_extension": ".py",
   "mimetype": "text/x-python",
   "name": "python",
   "nbconvert_exporter": "python",
   "pygments_lexer": "ipython3",
   "version": "3.8.5"
  }
 },
 "nbformat": 4,
 "nbformat_minor": 4
}
