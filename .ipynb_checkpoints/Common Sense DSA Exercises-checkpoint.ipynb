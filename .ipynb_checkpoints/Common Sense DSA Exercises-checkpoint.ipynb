{
 "cells": [
  {
   "cell_type": "code",
   "execution_count": 1,
   "metadata": {},
   "outputs": [
    {
     "data": {
      "text/plain": [
       "[2, 4]"
      ]
     },
     "execution_count": 1,
     "metadata": {},
     "output_type": "execute_result"
    }
   ],
   "source": [
    "#Exercise 8.1\n",
    "def intersection(array1,array2):\n",
    "    intersect_array=[]\n",
    "    dic={}\n",
    "    \n",
    "    for value in array1:\n",
    "        dic[value]=True\n",
    "    \n",
    "    for numb in array2:\n",
    "        if numb in dic.keys():\n",
    "            intersect_array.append(numb)\n",
    "    \n",
    "    return intersect_array\n",
    "intersection([1,2,3,4,5],[0,2,4,6,8])"
   ]
  },
  {
   "cell_type": "code",
   "execution_count": 3,
   "metadata": {},
   "outputs": [
    {
     "data": {
      "text/plain": [
       "'c'"
      ]
     },
     "execution_count": 3,
     "metadata": {},
     "output_type": "execute_result"
    }
   ],
   "source": [
    "#Exercise 8.2\n",
    "def duplicates(array):\n",
    "    dic={}\n",
    "    \n",
    "    for x in array:\n",
    "        if x not in dic:\n",
    "            dic[x]=True\n",
    "        else:\n",
    "            return x \n",
    "\n",
    "duplicates([\"a\",\"b\",\"c\",\"d\",\"c\",\"e\",\"f\"])"
   ]
  },
  {
   "cell_type": "code",
   "execution_count": 14,
   "metadata": {},
   "outputs": [],
   "source": [
    "#Exercise 8.3\n",
    "import string\n",
    "def missing_letter(str):\n",
    "    for letter in string.ascii_lowercase:\n",
    "        if letter not in str:\n",
    "            return letter\n",
    "\n",
    "missing_letter('the quick brown box jumps over a lazy dog')\n",
    "\n",
    "## Hastable Solution\n",
    "def findmissingletter(str):\n",
    "    dic={}\n",
    "    for char in str:\n",
    "        dic[char]=True\n",
    "        \n",
    "    alphabet=\"abcdefghijklmnopqrstuvwxyz\"\n",
    "    for char in alphabet:\n",
    "        if char not in dic:\n",
    "            return char\n",
    "    \n",
    "    return None"
   ]
  },
  {
   "cell_type": "code",
   "execution_count": 15,
   "metadata": {},
   "outputs": [],
   "source": [
    "#Exercise 8.4\n",
    "def fir_nonduplicate(str):\n",
    "    count1=1\n",
    "    \n",
    "    for x in str:\n",
    "        if str.count(x)==count1:\n",
    "            return x\n",
    "\n",
    "fir_nonduplicate('minimum')\n",
    "\n",
    "#Hashtable Solution\n",
    "def firstnonduplicate(str):\n",
    "    dic={}\n",
    "    \n",
    "    for char in str:\n",
    "        if char in dic:\n",
    "            dic[char]+=1\n",
    "        else:\n",
    "            dic[char]=1\n",
    "        \n",
    "    for char in string:\n",
    "        if dic[char]==1:\n",
    "            return char\n",
    "\n",
    "    return None"
   ]
  },
  {
   "cell_type": "code",
   "execution_count": 51,
   "metadata": {},
   "outputs": [
    {
     "data": {
      "text/plain": [
       "'adcbe'"
      ]
     },
     "execution_count": 51,
     "metadata": {},
     "output_type": "execute_result"
    }
   ],
   "source": [
    "#Exercise 9.4\n",
    "class Stack:\n",
    "    def __init__(self):\n",
    "        self.data=[]\n",
    "    \n",
    "    def push(self,element):\n",
    "        self.data.append(element)\n",
    "    \n",
    "    def pop(self):\n",
    "        return self.data.pop()\n",
    "    \n",
    "    def read(self):\n",
    "        if len(self.data)>0:\n",
    "            return self.data[-1]\n",
    "        else:\n",
    "            return None\n",
    "    \n",
    "def reverse(string):\n",
    "    stack=Stack()\n",
    "        \n",
    "    for char in string:\n",
    "            stack.push(char)\n",
    "            \n",
    "    newString=''\n",
    "        \n",
    "    while stack.read():\n",
    "        newString+=stack.pop()\n",
    "            \n",
    "    return newString\n",
    "\n",
    "reverse('ebcda')"
   ]
  },
  {
   "cell_type": "code",
   "execution_count": 65,
   "metadata": {},
   "outputs": [
    {
     "name": "stdout",
     "output_type": "stream",
     "text": [
      "1\n",
      "2\n",
      "3\n",
      "4\n",
      "5\n",
      "6\n",
      "7\n",
      "8\n",
      "9\n",
      "10\n",
      "11\n",
      "12\n",
      "13\n",
      "14\n",
      "15\n",
      "16\n",
      "17\n",
      "18\n",
      "19\n",
      "20\n",
      "21\n",
      "22\n",
      "23\n",
      "24\n",
      "25\n",
      "26\n",
      "27\n",
      "29\n",
      "30\n",
      "31\n",
      "32\n",
      "33\n"
     ]
    }
   ],
   "source": [
    "#Exercise 10.4\n",
    "array = [ 1,\n",
    "2,\n",
    "3,\n",
    "[4, 5, 6],\n",
    "7,\n",
    "[8,\n",
    "[9, 10, 11,\n",
    "[12, 13, 14]\n",
    "]\n",
    "],\n",
    "[15, 16, 17, 18, 19,\n",
    "[20, 21, 22,\n",
    "[23, 24, 25,\n",
    "[26, 27, 29]\n",
    "], 30, 31\n",
    "], 32\n",
    "], 33\n",
    "]\n",
    "\n",
    "def printing(array):\n",
    "    for value in array:\n",
    "        if isinstance(value,list):\n",
    "            printing(value)\n",
    "        else:\n",
    "            print(value)\n",
    "\n",
    "printing(array)"
   ]
  },
  {
   "cell_type": "code",
   "execution_count": 7,
   "metadata": {},
   "outputs": [
    {
     "data": {
      "text/plain": [
       "10"
      ]
     },
     "execution_count": 7,
     "metadata": {},
     "output_type": "execute_result"
    }
   ],
   "source": [
    "#Exercise 11.1 (Solution)\n",
    "def character_count(array):\n",
    "    \n",
    "    if len(array)==0:\n",
    "        return 0\n",
    "    \n",
    "    return len(array[0])+character_count(array[1:])\n",
    "\n",
    "character_count(['ab','c','def','ghij'])"
   ]
  },
  {
   "cell_type": "code",
   "execution_count": 35,
   "metadata": {},
   "outputs": [
    {
     "data": {
      "text/plain": [
       "[2, 4, 6]"
      ]
     },
     "execution_count": 35,
     "metadata": {},
     "output_type": "execute_result"
    }
   ],
   "source": [
    "#Exercise 11.2 (Solution)\n",
    "def selectEven(array):\n",
    "    \n",
    "    if len(array)==0:\n",
    "        return []\n",
    "\n",
    "    if array[0]%2==0:\n",
    "        return [array[0]]+selectEven(array[1:])\n",
    "\n",
    "    else:\n",
    "        return selectEven(array[1:])\n",
    "\n",
    "selectEven([1,2,3,4,6])"
   ]
  },
  {
   "cell_type": "code",
   "execution_count": 37,
   "metadata": {},
   "outputs": [
    {
     "data": {
      "text/plain": [
       "28"
      ]
     },
     "execution_count": 37,
     "metadata": {},
     "output_type": "execute_result"
    }
   ],
   "source": [
    "#Exercise 11.3\n",
    "def triangular_numbers(n):\n",
    "    \n",
    "    if n==0:\n",
    "        return 0\n",
    "    return n+triangular_numbers(n-1)\n",
    "\n",
    "triangular_numbers(7)"
   ]
  },
  {
   "cell_type": "code",
   "execution_count": 40,
   "metadata": {},
   "outputs": [
    {
     "data": {
      "text/plain": [
       "23"
      ]
     },
     "execution_count": 40,
     "metadata": {},
     "output_type": "execute_result"
    }
   ],
   "source": [
    "#Exercise 11.4\n",
    "def x_string(string,index=0):\n",
    "    \n",
    "    if string[index]=='x':\n",
    "        return index\n",
    "    return x_string(string,index+1)\n",
    "\n",
    "x_string('abcdefghijklmnopqrstuvwxyz')"
   ]
  },
  {
   "cell_type": "code",
   "execution_count": null,
   "metadata": {},
   "outputs": [],
   "source": [
    "#Exercise 11.5 (Solution)\n",
    "def unique_paths(rows,columns):\n",
    "    if rows==1 and columns==1:\n",
    "        return 1\n",
    "    return unique_paths(rows-1,columns)+uniquePaths(rows,columns-1)"
   ]
  },
  {
   "cell_type": "code",
   "execution_count": 43,
   "metadata": {},
   "outputs": [
    {
     "data": {
      "text/plain": [
       "100"
      ]
     },
     "execution_count": 43,
     "metadata": {},
     "output_type": "execute_result"
    }
   ],
   "source": [
    "#Exercise 12.1 (Solution)\n",
    "def add_until_100(array):\n",
    "\n",
    "    if len(array)==0:\n",
    "        return 0\n",
    "    \n",
    "    sumOfRemainingNumbers = add_until_100(array[1:])\n",
    "    \n",
    "    if array[0] + sumOfRemainingNumbers >100:\n",
    "        return sumOfRemainingNumbers\n",
    "    else:\n",
    "        return array[0] + sumOfRemainingNumbers\n",
    "\n",
    "add_until_100([1,2,3,95])"
   ]
  },
  {
   "cell_type": "code",
   "execution_count": 42,
   "metadata": {},
   "outputs": [
    {
     "data": {
      "text/plain": [
       "3"
      ]
     },
     "execution_count": 42,
     "metadata": {},
     "output_type": "execute_result"
    }
   ],
   "source": [
    "#Exercise 12.2\n",
    "def golomb(n,memo={}):\n",
    "    \n",
    "    if n==1:\n",
    "        return 1\n",
    "    \n",
    "    if not memo.get(n):\n",
    "        memo[n]= 1 + golomb(n - golomb(golomb(n - 1)))\n",
    "    \n",
    "    else:\n",
    "        memo[n]\n",
    "    \n",
    "    return memo[n]\n",
    "\n",
    "golomb(5)"
   ]
  },
  {
   "cell_type": "code",
   "execution_count": 1,
   "metadata": {},
   "outputs": [
    {
     "data": {
      "text/plain": [
       "6"
      ]
     },
     "execution_count": 1,
     "metadata": {},
     "output_type": "execute_result"
    }
   ],
   "source": [
    "#Exercise 12.3 (Solution)\n",
    "def unique_paths(rows,columns,memo={}):\n",
    "    \n",
    "    if rows==1 or columns==1:\n",
    "        return 1\n",
    "    \n",
    "    if not memo.get((rows,columns)):\n",
    "        memo[(rows,columns)]=unique_paths(rows-1,columns,memo)+ unique_paths(rows,columns-1,memo)\n",
    "    \n",
    "    return memo[(rows,columns)]\n",
    "\n",
    "unique_paths(3,3)"
   ]
  },
  {
   "cell_type": "code",
   "execution_count": 57,
   "metadata": {},
   "outputs": [
    {
     "data": {
      "text/plain": [
       "[1, 4, 8, 9, 10]"
      ]
     },
     "execution_count": 57,
     "metadata": {},
     "output_type": "execute_result"
    }
   ],
   "source": [
    "#Quick Sort Code From Scratch\n",
    "import random\n",
    "array=[1,8,4,10,9]\n",
    "\n",
    "def quick_sort(array):\n",
    "    \n",
    "    if len(array)==0:\n",
    "        return array\n",
    "    \n",
    "    pivot=array[0]\n",
    "    head=quick_sort([x for x in array if x < pivot])\n",
    "    tail=quick_sort([x for x in array if x > pivot])\n",
    "    \n",
    "    sorted_array = head + [pivot] + tail\n",
    "    \n",
    "    return sorted_array\n",
    "\n",
    "quick_sort([1,8,4,10,9])"
   ]
  },
  {
   "cell_type": "code",
   "execution_count": 60,
   "metadata": {},
   "outputs": [
    {
     "data": {
      "text/plain": [
       "720"
      ]
     },
     "execution_count": 60,
     "metadata": {},
     "output_type": "execute_result"
    }
   ],
   "source": [
    "#Exercise 13.1 (Solution)\n",
    "def greatest_product(array):\n",
    "    array.sort()\n",
    "    return array[-1]*array[-2]*array[-3]\n",
    "\n",
    "greatest_product([1,8,4,10,9])"
   ]
  },
  {
   "cell_type": "code",
   "execution_count": 62,
   "metadata": {},
   "outputs": [
    {
     "data": {
      "text/plain": [
       "0"
      ]
     },
     "execution_count": 62,
     "metadata": {},
     "output_type": "execute_result"
    }
   ],
   "source": [
    "#Exercise 13.2 (Solution)\n",
    "def find_missing_number(array):\n",
    "    array.sort()\n",
    "    \n",
    "    for i in range(len(array)):\n",
    "        if array[i]!=i:\n",
    "            return i\n",
    "    \n",
    "    return None\n",
    "\n",
    "find_missing_number([1,2,3,4,6])"
   ]
  },
  {
   "cell_type": "code",
   "execution_count": 65,
   "metadata": {},
   "outputs": [
    {
     "data": {
      "text/plain": [
       "10"
      ]
     },
     "execution_count": 65,
     "metadata": {},
     "output_type": "execute_result"
    }
   ],
   "source": [
    "#Exercise 13.3 (O(N^2))\n",
    "def greatest_numb(array):\n",
    "    \n",
    "    for i in range(len(array)):\n",
    "        count=0\n",
    "        \n",
    "        for j in range(len(array)):\n",
    "            if array[i]!=array[j] and array[j]>array[i]:\n",
    "                count+=1\n",
    "        \n",
    "        if count==0:\n",
    "            return array[i]\n",
    "\n",
    "greatest_numb([1,2,10,3,2])"
   ]
  },
  {
   "cell_type": "code",
   "execution_count": 67,
   "metadata": {},
   "outputs": [
    {
     "data": {
      "text/plain": [
       "21"
      ]
     },
     "execution_count": 67,
     "metadata": {},
     "output_type": "execute_result"
    }
   ],
   "source": [
    "#Exercise 13.3 (O(N * log N))\n",
    "def greatest_numb(array):\n",
    "    \n",
    "    array.sort()\n",
    "    \n",
    "    return array[-1]\n",
    "\n",
    "greatest_numb([1,2,10,5,21])"
   ]
  },
  {
   "cell_type": "code",
   "execution_count": 68,
   "metadata": {},
   "outputs": [
    {
     "data": {
      "text/plain": [
       "21"
      ]
     },
     "execution_count": 68,
     "metadata": {},
     "output_type": "execute_result"
    }
   ],
   "source": [
    "#Exercise 13.3 (O(N))\n",
    "def greatest_numb(array):\n",
    "    \n",
    "    num=0\n",
    "    \n",
    "    for i in range(len(array)):\n",
    "        if array[i]>num:\n",
    "            num=array[i]\n",
    "    return num\n",
    "\n",
    "greatest_numb([1,2,10,5,21])"
   ]
  },
  {
   "cell_type": "code",
   "execution_count": null,
   "metadata": {},
   "outputs": [],
   "source": []
  }
 ],
 "metadata": {
  "kernelspec": {
   "display_name": "Python 3",
   "language": "python",
   "name": "python3"
  },
  "language_info": {
   "codemirror_mode": {
    "name": "ipython",
    "version": 3
   },
   "file_extension": ".py",
   "mimetype": "text/x-python",
   "name": "python",
   "nbconvert_exporter": "python",
   "pygments_lexer": "ipython3",
   "version": "3.8.5"
  }
 },
 "nbformat": 4,
 "nbformat_minor": 4
}
