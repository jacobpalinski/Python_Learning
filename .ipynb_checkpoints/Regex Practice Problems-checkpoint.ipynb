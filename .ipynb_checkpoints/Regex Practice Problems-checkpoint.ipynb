{
 "cells": [
  {
   "cell_type": "code",
   "execution_count": 137,
   "metadata": {},
   "outputs": [
    {
     "name": "stdout",
     "output_type": "stream",
     "text": [
      "True\n"
     ]
    }
   ],
   "source": [
    "#1\n",
    "import re\n",
    "string='Aa9'\n",
    "\n",
    "pattern=re.compile(r'[a-zA-Z0-9]')\n",
    "matches=pattern.search(string)\n",
    "print(bool(matches))"
   ]
  },
  {
   "cell_type": "code",
   "execution_count": 48,
   "metadata": {},
   "outputs": [
    {
     "name": "stdout",
     "output_type": "stream",
     "text": [
      "True\n"
     ]
    }
   ],
   "source": [
    "#2\n",
    "string='alphabet'\n",
    "pattern=re.compile(r'a+b*')\n",
    "print(bool(pattern.search(string)))"
   ]
  },
  {
   "cell_type": "code",
   "execution_count": 51,
   "metadata": {},
   "outputs": [
    {
     "name": "stdout",
     "output_type": "stream",
     "text": [
      "False\n"
     ]
    }
   ],
   "source": [
    "#3\n",
    "string='alphaet'\n",
    "pattern=re.compile(r'a+b+')\n",
    "print(bool(pattern.search(string)))"
   ]
  },
  {
   "cell_type": "code",
   "execution_count": 66,
   "metadata": {},
   "outputs": [
    {
     "name": "stdout",
     "output_type": "stream",
     "text": [
      "True\n"
     ]
    }
   ],
   "source": [
    "#4\n",
    "string1='abb'\n",
    "pattern=re.compile(r'ab?')\n",
    "print(bool(pattern.search(string1)))"
   ]
  },
  {
   "cell_type": "code",
   "execution_count": 76,
   "metadata": {},
   "outputs": [
    {
     "name": "stdout",
     "output_type": "stream",
     "text": [
      "True\n"
     ]
    }
   ],
   "source": [
    "#5\n",
    "string1='abbb'\n",
    "pattern=re.compile(r'ab{3}')\n",
    "print(bool(pattern.search(string1)))"
   ]
  },
  {
   "cell_type": "code",
   "execution_count": 82,
   "metadata": {},
   "outputs": [
    {
     "name": "stdout",
     "output_type": "stream",
     "text": [
      "True\n"
     ]
    }
   ],
   "source": [
    "#6\n",
    "string1='abb'\n",
    "pattern=re.compile(r'ab{2,3}')\n",
    "print(bool(pattern.search(string1)))"
   ]
  },
  {
   "cell_type": "code",
   "execution_count": 116,
   "metadata": {},
   "outputs": [
    {
     "name": "stdout",
     "output_type": "stream",
     "text": [
      "<re.Match object; span=(1, 5), match='sss_'>\n",
      "<re.Match object; span=(12, 16), match='sdc_'>\n",
      "<re.Match object; span=(17, 19), match='c_'>\n"
     ]
    }
   ],
   "source": [
    "#7\n",
    "string= '''\n",
    "sss_ \n",
    "aba \n",
    "sdc_\n",
    "c_ba'''\n",
    "pattern=re.compile(r'[a-z]+_')\n",
    "matches=pattern.finditer(string)\n",
    "for match in matches:\n",
    "    print(match)"
   ]
  },
  {
   "cell_type": "code",
   "execution_count": 94,
   "metadata": {},
   "outputs": [
    {
     "name": "stdout",
     "output_type": "stream",
     "text": [
      "<re.Match object; span=(1, 4), match='Sss'>\n"
     ]
    }
   ],
   "source": [
    "#8\n",
    "string= '''\n",
    "Sss_ \n",
    "aba \n",
    "sdc_\n",
    "c_ba'''\n",
    "pattern=re.compile(r'[A-Z][a-z]+')\n",
    "matches=pattern.finditer(string)\n",
    "for match in matches:\n",
    "    print(match)"
   ]
  },
  {
   "cell_type": "code",
   "execution_count": 119,
   "metadata": {},
   "outputs": [
    {
     "name": "stdout",
     "output_type": "stream",
     "text": [
      "True\n"
     ]
    }
   ],
   "source": [
    "#9\n",
    "string= 'appleb'\n",
    "pattern=re.compile(r'a.*?b$')\n",
    "print(bool(pattern.search(string)))"
   ]
  },
  {
   "cell_type": "code",
   "execution_count": 121,
   "metadata": {},
   "outputs": [
    {
     "name": "stdout",
     "output_type": "stream",
     "text": [
      "False\n"
     ]
    }
   ],
   "source": [
    "#10\n",
    "string='juic apple'\n",
    "pattern=re.compile(r'^juicy')\n",
    "print(bool(pattern.search(string)))"
   ]
  },
  {
   "cell_type": "code",
   "execution_count": 127,
   "metadata": {},
   "outputs": [
    {
     "name": "stdout",
     "output_type": "stream",
     "text": [
      "False\n"
     ]
    }
   ],
   "source": [
    "#11\n",
    "string='juic apple. '\n",
    "pattern=re.compile(r'apple\\S*$')\n",
    "print(bool(pattern.search(string)))"
   ]
  },
  {
   "cell_type": "code",
   "execution_count": 130,
   "metadata": {},
   "outputs": [
    {
     "name": "stdout",
     "output_type": "stream",
     "text": [
      "True\n"
     ]
    }
   ],
   "source": [
    "#12\n",
    "string='zedsa'\n",
    "pattern=re.compile(r'z')\n",
    "print(bool(pattern.search(string)))"
   ]
  },
  {
   "cell_type": "code",
   "execution_count": 132,
   "metadata": {},
   "outputs": [
    {
     "name": "stdout",
     "output_type": "stream",
     "text": [
      "True\n"
     ]
    }
   ],
   "source": [
    "#13\n",
    "string='eezdsa'\n",
    "pattern=re.compile(r'\\Bz\\B')\n",
    "print(bool(pattern.search(string)))"
   ]
  },
  {
   "cell_type": "code",
   "execution_count": 141,
   "metadata": {},
   "outputs": [
    {
     "name": "stdout",
     "output_type": "stream",
     "text": [
      "True\n"
     ]
    }
   ],
   "source": [
    "#14\n",
    "string='apple@'\n",
    "pattern=re.compile(r'\\w')\n",
    "print(bool(pattern.search(string)))"
   ]
  },
  {
   "cell_type": "code",
   "execution_count": 145,
   "metadata": {},
   "outputs": [
    {
     "name": "stdout",
     "output_type": "stream",
     "text": [
      "True\n"
     ]
    }
   ],
   "source": [
    "#15\n",
    "string='8ate'\n",
    "pattern=re.compile(r'^8')\n",
    "print(bool(pattern.search(string)))"
   ]
  },
  {
   "cell_type": "code",
   "execution_count": 147,
   "metadata": {},
   "outputs": [
    {
     "name": "stdout",
     "output_type": "stream",
     "text": [
      "apple\n"
     ]
    }
   ],
   "source": [
    "#16\n",
    "string='000000apple'\n",
    "new_string=re.sub(r'^0+','',string)\n",
    "print(new_string)"
   ]
  },
  {
   "cell_type": "code",
   "execution_count": 159,
   "metadata": {},
   "outputs": [
    {
     "name": "stdout",
     "output_type": "stream",
     "text": [
      "True\n"
     ]
    }
   ],
   "source": [
    "#17\n",
    "string='apple'\n",
    "pattern=re.compile(r'\\d$')\n",
    "print(bool(pattern.search(string)))"
   ]
  },
  {
   "cell_type": "code",
   "execution_count": 155,
   "metadata": {},
   "outputs": [
    {
     "name": "stdout",
     "output_type": "stream",
     "text": [
      "<re.Match object; span=(10, 11), match='1'>\n",
      "<re.Match object; span=(12, 14), match='12'>\n",
      "<re.Match object; span=(15, 17), match='13'>\n",
      "<re.Match object; span=(22, 25), match='345'>\n"
     ]
    }
   ],
   "source": [
    "#18\n",
    "string='Exercises 1,12,13 and 345 are important'\n",
    "pattern=re.compile('\\d{1,3}')\n",
    "matches=pattern.finditer(string)\n",
    "for match in matches:\n",
    "    print(match)"
   ]
  },
  {
   "cell_type": "code",
   "execution_count": 162,
   "metadata": {},
   "outputs": [
    {
     "name": "stdout",
     "output_type": "stream",
     "text": [
      "True\n"
     ]
    }
   ],
   "source": [
    "#19\n",
    "string='The quick brown fox jumps over the lazy dog'\n",
    "pattern=re.compile(r'[fox,horse,dog]')\n",
    "print(bool(pattern.search(string)))"
   ]
  },
  {
   "cell_type": "code",
   "execution_count": 165,
   "metadata": {},
   "outputs": [
    {
     "name": "stdout",
     "output_type": "stream",
     "text": [
      "<re.Match object; span=(16, 19), match='fox'>\n"
     ]
    }
   ],
   "source": [
    "#20\n",
    "string='The quick brown fox jumps over the lazy dog'\n",
    "pattern=re.compile(r'fox')\n",
    "matches=pattern.finditer(string)\n",
    "for match in matches:\n",
    "    print(match)"
   ]
  },
  {
   "cell_type": "code",
   "execution_count": 167,
   "metadata": {},
   "outputs": [
    {
     "name": "stdout",
     "output_type": "stream",
     "text": [
      "<re.Match object; span=(7, 16), match='exercises'>\n",
      "<re.Match object; span=(22, 31), match='exercises'>\n",
      "<re.Match object; span=(36, 45), match='exercises'>\n"
     ]
    }
   ],
   "source": [
    "#21\n",
    "string='Python exercises, PHP exercises, C# exercises'\n",
    "pattern=re.compile(r'exercises')\n",
    "matches=pattern.finditer(string)\n",
    "for match in matches:\n",
    "    print(match)"
   ]
  },
  {
   "cell_type": "code",
   "execution_count": 182,
   "metadata": {},
   "outputs": [
    {
     "data": {
      "text/plain": [
       "[('2021', '09', '02')]"
      ]
     },
     "execution_count": 182,
     "metadata": {},
     "output_type": "execute_result"
    }
   ],
   "source": [
    "#24\n",
    "url='2021/09/02'\n",
    "pattern=re.compile(r'(\\d{4})/(\\d{1,2})/(\\d{1,2})')\n",
    "pattern.findall(url)"
   ]
  },
  {
   "cell_type": "code",
   "execution_count": 185,
   "metadata": {},
   "outputs": [
    {
     "name": "stdout",
     "output_type": "stream",
     "text": [
      "02-01-2026\n"
     ]
    }
   ],
   "source": [
    "#25\n",
    "dt1='2026-01-02'\n",
    "dt2=re.sub(r'(\\d{4})-(\\d{1,2})-(\\d{1,2})','\\\\3-\\\\2-\\\\1',dt1)\n",
    "print(dt2)"
   ]
  },
  {
   "cell_type": "code",
   "execution_count": 195,
   "metadata": {},
   "outputs": [
    {
     "name": "stdout",
     "output_type": "stream",
     "text": [
      "<re.Match object; span=(0, 12), match='Pretty Party'>\n"
     ]
    }
   ],
   "source": [
    "#26\n",
    "string='Pretty Party'\n",
    "pattern=re.compile(r'(P\\w+)\\W(P\\w+)')\n",
    "print(pattern.search(string))"
   ]
  },
  {
   "cell_type": "code",
   "execution_count": 206,
   "metadata": {},
   "outputs": [
    {
     "name": "stdout",
     "output_type": "stream",
     "text": [
      "<re.Match object; span=(0, 5), match='apple'>\n",
      "<re.Match object; span=(11, 17), match='eating'>\n"
     ]
    }
   ],
   "source": [
    "#28\n",
    "string='apple john eating'\n",
    "pattern=re.compile('(a\\w+)|(e\\w+)')\n",
    "matches=pattern.finditer(string)\n",
    "for match in matches:\n",
    "    print(match)"
   ]
  },
  {
   "cell_type": "code",
   "execution_count": 207,
   "metadata": {},
   "outputs": [
    {
     "data": {
      "text/plain": [
       "'Driving on Kingway rd to wanneroo rd'"
      ]
     },
     "execution_count": 207,
     "metadata": {},
     "output_type": "execute_result"
    }
   ],
   "source": [
    "#30\n",
    "string='Driving on Kingway road to wanneroo road'\n",
    "re.sub('road','rd',string)"
   ]
  },
  {
   "cell_type": "code",
   "execution_count": 210,
   "metadata": {},
   "outputs": [
    {
     "data": {
      "text/plain": [
       "'Driving:on:Kingsway:road::to:wanneroo:road:'"
      ]
     },
     "execution_count": 210,
     "metadata": {},
     "output_type": "execute_result"
    }
   ],
   "source": [
    "#31\n",
    "string='Driving on Kingsway road, to wanneroo road.'\n",
    "re.sub('[ ,.]',':',string)"
   ]
  },
  {
   "cell_type": "code",
   "execution_count": 211,
   "metadata": {},
   "outputs": [
    {
     "data": {
      "text/plain": [
       "'Driving:on:Kingsway road, to wanneroo road.'"
      ]
     },
     "execution_count": 211,
     "metadata": {},
     "output_type": "execute_result"
    }
   ],
   "source": [
    "#32\n",
    "string='Driving on Kingsway road, to wanneroo road.'\n",
    "re.sub('[ ,.]',':',string,2)"
   ]
  },
  {
   "cell_type": "code",
   "execution_count": 214,
   "metadata": {},
   "outputs": [
    {
     "name": "stdout",
     "output_type": "stream",
     "text": [
      "<re.Match object; span=(0, 5), match='apple'>\n",
      "<re.Match object; span=(10, 15), match='bills'>\n"
     ]
    }
   ],
   "source": [
    "#33\n",
    "string='apple joe bills to'\n",
    "pattern=re.compile('\\w{5}')\n",
    "matches=pattern.finditer(string)\n",
    "for match in matches:\n",
    "    print(match)"
   ]
  },
  {
   "cell_type": "code",
   "execution_count": 218,
   "metadata": {},
   "outputs": [
    {
     "name": "stdout",
     "output_type": "stream",
     "text": [
      "<re.Match object; span=(0, 5), match='apple'>\n",
      "<re.Match object; span=(6, 9), match='joe'>\n",
      "<re.Match object; span=(10, 15), match='bills'>\n"
     ]
    }
   ],
   "source": [
    "#34\n",
    "string='apple joe bills to'\n",
    "pattern=re.compile('\\w{5}|\\w{4}|\\w{3}')\n",
    "matches=pattern.finditer(string)\n",
    "for match in matches:\n",
    "    print(match)"
   ]
  },
  {
   "cell_type": "code",
   "execution_count": 219,
   "metadata": {},
   "outputs": [
    {
     "data": {
      "text/plain": [
       "'camel'"
      ]
     },
     "execution_count": 219,
     "metadata": {},
     "output_type": "execute_result"
    }
   ],
   "source": [
    "#36\n",
    "string='snake'\n",
    "re.sub('snake','camel',string)"
   ]
  },
  {
   "cell_type": "code",
   "execution_count": 221,
   "metadata": {},
   "outputs": [
    {
     "name": "stdout",
     "output_type": "stream",
     "text": [
      "<re.Match object; span=(6, 11), match='\"job\"'>\n"
     ]
    }
   ],
   "source": [
    "#38\n",
    "string='apple \"job\" joe'\n",
    "pattern=re.compile('\"(.*?)\"')\n",
    "matches=pattern.finditer(string)\n",
    "for match in matches:\n",
    "    print(match)"
   ]
  },
  {
   "cell_type": "code",
   "execution_count": 222,
   "metadata": {},
   "outputs": [
    {
     "data": {
      "text/plain": [
       "'stevejobsapple'"
      ]
     },
     "execution_count": 222,
     "metadata": {},
     "output_type": "execute_result"
    }
   ],
   "source": [
    "#39\n",
    "string='steve jobs apple'\n",
    "re.sub(' ','',string)"
   ]
  },
  {
   "cell_type": "code",
   "execution_count": 228,
   "metadata": {},
   "outputs": [
    {
     "data": {
      "text/plain": [
       "'stevejobsapple'"
      ]
     },
     "execution_count": 228,
     "metadata": {},
     "output_type": "execute_result"
    }
   ],
   "source": [
    "#41\n",
    "string='steve jobs apple @'\n",
    "re.sub(r'[^\\w]','',string)"
   ]
  },
  {
   "cell_type": "code",
   "execution_count": 230,
   "metadata": {},
   "outputs": [
    {
     "name": "stdout",
     "output_type": "stream",
     "text": [
      "<re.Match object; span=(1, 22), match='https://www.apple.com'>\n"
     ]
    }
   ],
   "source": [
    "#42\n",
    "string= '''\n",
    "https://www.apple.com\n",
    "bananna\n",
    "apple\n",
    "\n",
    "'''\n",
    "pattern=re.compile(r'https.+')\n",
    "matches=pattern.finditer(string)\n",
    "for match in matches:\n",
    "    print(match)"
   ]
  },
  {
   "cell_type": "code",
   "execution_count": 231,
   "metadata": {},
   "outputs": [
    {
     "data": {
      "text/plain": [
       "['aaaa', 'eeeee', 'ey']"
      ]
     },
     "execution_count": 231,
     "metadata": {},
     "output_type": "execute_result"
    }
   ],
   "source": [
    "#43\n",
    "string='aaaaPeeeeeLey'\n",
    "re.split(r'[PL]',string)"
   ]
  },
  {
   "cell_type": "code",
   "execution_count": 233,
   "metadata": {},
   "outputs": [
    {
     "data": {
      "text/plain": [
       "'PHP Exercises'"
      ]
     },
     "execution_count": 233,
     "metadata": {},
     "output_type": "execute_result"
    }
   ],
   "source": [
    "#44\n",
    "string='PHP'\n",
    "pattern=re.compile('php',re.IGNORECASE)\n",
    "pattern.sub(string,'PHP Exercises')"
   ]
  },
  {
   "cell_type": "code",
   "execution_count": 236,
   "metadata": {},
   "outputs": [
    {
     "name": "stdout",
     "output_type": "stream",
     "text": [
      "<re.Match object; span=(0, 7), match='Clearly'>\n"
     ]
    }
   ],
   "source": [
    "#46\n",
    "string='Clearly he has no excuse for such behavior.'\n",
    "pattern=re.compile(r'\\w+ly')\n",
    "matches=pattern.finditer(string)\n",
    "for match in matches:\n",
    "    print(match)"
   ]
  },
  {
   "cell_type": "code",
   "execution_count": 237,
   "metadata": {},
   "outputs": [
    {
     "data": {
      "text/plain": [
       "['I: love', ' ', 'eating', '', 'apples']"
      ]
     },
     "execution_count": 237,
     "metadata": {},
     "output_type": "execute_result"
    }
   ],
   "source": [
    "#47\n",
    "string='I: love; \"eating\"/apples'\n",
    "re.split('[,;\"\"{}|\\/]',string)"
   ]
  },
  {
   "cell_type": "code",
   "execution_count": 241,
   "metadata": {},
   "outputs": [
    {
     "name": "stdout",
     "output_type": "stream",
     "text": [
      "False\n"
     ]
    }
   ],
   "source": [
    "#48\n",
    "decimal='14.203'\n",
    "pattern=re.compile(r'[0-9]+\\.[0-9]{2}$')\n",
    "print(bool(pattern.search(decimal)))"
   ]
  },
  {
   "cell_type": "code",
   "execution_count": 253,
   "metadata": {},
   "outputs": [
    {
     "data": {
      "text/plain": [
       "' joe  hillss'"
      ]
     },
     "execution_count": 253,
     "metadata": {},
     "output_type": "execute_result"
    }
   ],
   "source": [
    "#49\n",
    "string='apple joe hills hillss'\n",
    "pattern=re.compile(r'\\b\\w{4,5}\\b')\n",
    "pattern.sub('',string)"
   ]
  },
  {
   "cell_type": "code",
   "execution_count": 258,
   "metadata": {},
   "outputs": [
    {
     "name": "stdout",
     "output_type": "stream",
     "text": [
      "example.com\n",
      "w3resource\n",
      "github.com\n",
      "stackoverflow.com\n"
     ]
    }
   ],
   "source": [
    "#50\n",
    "string=[\"example(.com)\",\"w3resource\",\"github(.com)\",\"stackoverflow(.com)\"]\n",
    "for x in string:\n",
    "    print(re.sub(r'[()]','',x))"
   ]
  }
 ],
 "metadata": {
  "kernelspec": {
   "display_name": "Python 3",
   "language": "python",
   "name": "python3"
  },
  "language_info": {
   "codemirror_mode": {
    "name": "ipython",
    "version": 3
   },
   "file_extension": ".py",
   "mimetype": "text/x-python",
   "name": "python",
   "nbconvert_exporter": "python",
   "pygments_lexer": "ipython3",
   "version": "3.8.5"
  }
 },
 "nbformat": 4,
 "nbformat_minor": 4
}
